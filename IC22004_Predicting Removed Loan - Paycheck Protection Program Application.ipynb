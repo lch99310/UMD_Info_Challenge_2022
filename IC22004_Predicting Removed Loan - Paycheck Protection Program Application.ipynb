{
 "cells": [
  {
   "cell_type": "markdown",
   "id": "da60d905-a19d-4204-9e8c-2accc3033cf2",
   "metadata": {},
   "source": [
    "# UMD Info Challenge 2022\n",
    "## Predicting Removed Loan - Paycheck Protection Program Application\n",
    "## U.S. Small Business Administration\n",
    "\n",
    "In this chanllege, we select the topic of Paycheck Protection Program removed application. Paycheck Protection Program (PPP), a Small Business Administration (SBA)-backed loan, helps businesses keep employed during the COVID-19. SBA released millions of approved applications, but it removed some previously present applications for untold reasons. In the IC22, we focused on PPP data in Georgia with 550k non-removed and 22k removed loans and our goals were to 1. Find out characteristics of the removed loans. 2. Compare characteristics of removed and non-removed loans. 3. Build a predictive model with the characteristics we found to predict whether a loan would be removed from the dataset.\n",
    "\n"
   ]
  },
  {
   "cell_type": "markdown",
   "id": "2c14898e-54b8-4574-8f68-9b2b6d4b83d2",
   "metadata": {
    "tags": []
   },
   "source": [
    "### Data Cleaning and Processing\n",
    "\n",
    "We have two provided dataset, dataset with non-removed loans and dataset with removed loans. In the data processing, we cleaned the variables and do data manipulation, such as: we extracted the first two digits from the NAICS code to simplify categorization, and classified multifarious business types into four major classes.\n",
    "\n",
    "Also because we would like to reflect more accurate geologic information, we introduced latitude and longtitude to replace zip code of both borrower and lender."
   ]
  },
  {
   "cell_type": "code",
   "execution_count": 2,
   "id": "9c38a84e-9828-46be-a3ae-9a74a58daf2a",
   "metadata": {},
   "outputs": [],
   "source": [
    "# Import libraries that dealing with data manipulation, cleaning and processing \n",
    "import numpy as np\n",
    "import pandas as pd\n",
    "\n",
    "# Make visualiztion keep in this window, not pop out a new window.\n",
    "%matplotlib inline"
   ]
  },
  {
   "cell_type": "code",
   "execution_count": 3,
   "id": "a332eda2-6ffc-4330-9b9e-d50490e768a5",
   "metadata": {},
   "outputs": [
    {
     "data": {
      "text/html": [
       "<div>\n",
       "<style scoped>\n",
       "    .dataframe tbody tr th:only-of-type {\n",
       "        vertical-align: middle;\n",
       "    }\n",
       "\n",
       "    .dataframe tbody tr th {\n",
       "        vertical-align: top;\n",
       "    }\n",
       "\n",
       "    .dataframe thead th {\n",
       "        text-align: right;\n",
       "    }\n",
       "</style>\n",
       "<table border=\"1\" class=\"dataframe\">\n",
       "  <thead>\n",
       "    <tr style=\"text-align: right;\">\n",
       "      <th></th>\n",
       "      <th>name</th>\n",
       "      <th>amount</th>\n",
       "      <th>state</th>\n",
       "      <th>address</th>\n",
       "      <th>city</th>\n",
       "      <th>zip</th>\n",
       "      <th>naics_code</th>\n",
       "      <th>business_type</th>\n",
       "      <th>jobs_retained</th>\n",
       "      <th>date_approved</th>\n",
       "      <th>...</th>\n",
       "      <th>project_county_name</th>\n",
       "      <th>project_state</th>\n",
       "      <th>project_zip</th>\n",
       "      <th>originating_lender_city</th>\n",
       "      <th>originating_lender_state</th>\n",
       "      <th>loan_status_date</th>\n",
       "      <th>originating_lender_location_id</th>\n",
       "      <th>lmi_indicator</th>\n",
       "      <th>forgiveness_amount</th>\n",
       "      <th>forgiveness_date</th>\n",
       "    </tr>\n",
       "    <tr>\n",
       "      <th>loan_number</th>\n",
       "      <th></th>\n",
       "      <th></th>\n",
       "      <th></th>\n",
       "      <th></th>\n",
       "      <th></th>\n",
       "      <th></th>\n",
       "      <th></th>\n",
       "      <th></th>\n",
       "      <th></th>\n",
       "      <th></th>\n",
       "      <th></th>\n",
       "      <th></th>\n",
       "      <th></th>\n",
       "      <th></th>\n",
       "      <th></th>\n",
       "      <th></th>\n",
       "      <th></th>\n",
       "      <th></th>\n",
       "      <th></th>\n",
       "      <th></th>\n",
       "      <th></th>\n",
       "    </tr>\n",
       "  </thead>\n",
       "  <tbody>\n",
       "    <tr>\n",
       "      <th>1000019005</th>\n",
       "      <td>HA T NGUYEN</td>\n",
       "      <td>12752.0</td>\n",
       "      <td>GA</td>\n",
       "      <td>345 Big Creek Ln N/A</td>\n",
       "      <td>Ringgold</td>\n",
       "      <td>30736-8562</td>\n",
       "      <td>812113.0</td>\n",
       "      <td>Independent Contractors</td>\n",
       "      <td>1</td>\n",
       "      <td>2021-05-12</td>\n",
       "      <td>...</td>\n",
       "      <td>CATOOSA</td>\n",
       "      <td>GA</td>\n",
       "      <td>30736-8562</td>\n",
       "      <td>ARLINGTON</td>\n",
       "      <td>MA</td>\n",
       "      <td>NaN</td>\n",
       "      <td>262380</td>\n",
       "      <td>N</td>\n",
       "      <td>12788.33</td>\n",
       "      <td>2021-09-21</td>\n",
       "    </tr>\n",
       "    <tr>\n",
       "      <th>1000028404</th>\n",
       "      <td>RAPHAEL AUGUSTIN</td>\n",
       "      <td>18708.0</td>\n",
       "      <td>GA</td>\n",
       "      <td>1047 Gun Club Rd NW</td>\n",
       "      <td>Atlanta</td>\n",
       "      <td>30318-3909</td>\n",
       "      <td>485320.0</td>\n",
       "      <td>Sole Proprietorship</td>\n",
       "      <td>1</td>\n",
       "      <td>2021-01-31</td>\n",
       "      <td>...</td>\n",
       "      <td>FULTON</td>\n",
       "      <td>GA</td>\n",
       "      <td>30318-3909</td>\n",
       "      <td>Atlanta</td>\n",
       "      <td>GA</td>\n",
       "      <td>NaN</td>\n",
       "      <td>529113</td>\n",
       "      <td>Y</td>\n",
       "      <td>NaN</td>\n",
       "      <td>NaN</td>\n",
       "    </tr>\n",
       "    <tr>\n",
       "      <th>1000028807</th>\n",
       "      <td>MORIAH CROWE</td>\n",
       "      <td>13752.0</td>\n",
       "      <td>GA</td>\n",
       "      <td>674 Yonah Meadow Dr</td>\n",
       "      <td>Cleveland</td>\n",
       "      <td>30528-4777</td>\n",
       "      <td>711190.0</td>\n",
       "      <td>Sole Proprietorship</td>\n",
       "      <td>1</td>\n",
       "      <td>2021-04-09</td>\n",
       "      <td>...</td>\n",
       "      <td>WHITE</td>\n",
       "      <td>GA</td>\n",
       "      <td>30528-4777</td>\n",
       "      <td>TEANECK</td>\n",
       "      <td>NJ</td>\n",
       "      <td>NaN</td>\n",
       "      <td>456756</td>\n",
       "      <td>N</td>\n",
       "      <td>NaN</td>\n",
       "      <td>NaN</td>\n",
       "    </tr>\n",
       "    <tr>\n",
       "      <th>1000078408</th>\n",
       "      <td>NBWS CONTRACTING AND LOGISTICS LLC</td>\n",
       "      <td>3665.0</td>\n",
       "      <td>GA</td>\n",
       "      <td>603 Trevor St</td>\n",
       "      <td>Hinesville</td>\n",
       "      <td>31313-3943</td>\n",
       "      <td>236118.0</td>\n",
       "      <td>Limited  Liability Company(LLC)</td>\n",
       "      <td>1</td>\n",
       "      <td>2021-01-31</td>\n",
       "      <td>...</td>\n",
       "      <td>LIBERTY</td>\n",
       "      <td>GA</td>\n",
       "      <td>31313-3943</td>\n",
       "      <td>VIENNA</td>\n",
       "      <td>VA</td>\n",
       "      <td>NaN</td>\n",
       "      <td>93956</td>\n",
       "      <td>N</td>\n",
       "      <td>NaN</td>\n",
       "      <td>NaN</td>\n",
       "    </tr>\n",
       "    <tr>\n",
       "      <th>1000088607</th>\n",
       "      <td>STACIE NEAL</td>\n",
       "      <td>7946.0</td>\n",
       "      <td>GA</td>\n",
       "      <td>976 Revere Way</td>\n",
       "      <td>Hampton</td>\n",
       "      <td>30228-5973</td>\n",
       "      <td>611699.0</td>\n",
       "      <td>Sole Proprietorship</td>\n",
       "      <td>1</td>\n",
       "      <td>2021-03-12</td>\n",
       "      <td>...</td>\n",
       "      <td>HENRY</td>\n",
       "      <td>GA</td>\n",
       "      <td>30228-5973</td>\n",
       "      <td>TEANECK</td>\n",
       "      <td>NJ</td>\n",
       "      <td>NaN</td>\n",
       "      <td>456756</td>\n",
       "      <td>Y</td>\n",
       "      <td>NaN</td>\n",
       "      <td>NaN</td>\n",
       "    </tr>\n",
       "    <tr>\n",
       "      <th>...</th>\n",
       "      <td>...</td>\n",
       "      <td>...</td>\n",
       "      <td>...</td>\n",
       "      <td>...</td>\n",
       "      <td>...</td>\n",
       "      <td>...</td>\n",
       "      <td>...</td>\n",
       "      <td>...</td>\n",
       "      <td>...</td>\n",
       "      <td>...</td>\n",
       "      <td>...</td>\n",
       "      <td>...</td>\n",
       "      <td>...</td>\n",
       "      <td>...</td>\n",
       "      <td>...</td>\n",
       "      <td>...</td>\n",
       "      <td>...</td>\n",
       "      <td>...</td>\n",
       "      <td>...</td>\n",
       "      <td>...</td>\n",
       "      <td>...</td>\n",
       "    </tr>\n",
       "    <tr>\n",
       "      <th>9998958607</th>\n",
       "      <td>HONORBUILTLLC</td>\n",
       "      <td>1404200.0</td>\n",
       "      <td>GA</td>\n",
       "      <td>1221 Bickham Way SE</td>\n",
       "      <td>Smyrna</td>\n",
       "      <td>30080-3952</td>\n",
       "      <td>541519.0</td>\n",
       "      <td>Limited  Liability Company(LLC)</td>\n",
       "      <td>171</td>\n",
       "      <td>2021-03-26</td>\n",
       "      <td>...</td>\n",
       "      <td>COBB</td>\n",
       "      <td>GA</td>\n",
       "      <td>30080-3952</td>\n",
       "      <td>BLAIRSVILLE</td>\n",
       "      <td>GA</td>\n",
       "      <td>2021-08-21</td>\n",
       "      <td>19133</td>\n",
       "      <td>N</td>\n",
       "      <td>1408008.65</td>\n",
       "      <td>2021-07-08</td>\n",
       "    </tr>\n",
       "    <tr>\n",
       "      <th>9998977007</th>\n",
       "      <td>MOJO PIZZA, INC.</td>\n",
       "      <td>37720.0</td>\n",
       "      <td>GA</td>\n",
       "      <td>657 East Lake Drive</td>\n",
       "      <td>Decatur</td>\n",
       "      <td>30030-3535</td>\n",
       "      <td>722511.0</td>\n",
       "      <td>Corporation</td>\n",
       "      <td>10</td>\n",
       "      <td>2020-04-09</td>\n",
       "      <td>...</td>\n",
       "      <td>DEKALB</td>\n",
       "      <td>GA</td>\n",
       "      <td>30030-3535</td>\n",
       "      <td>TUCKER</td>\n",
       "      <td>GA</td>\n",
       "      <td>2021-02-05</td>\n",
       "      <td>526415</td>\n",
       "      <td>N</td>\n",
       "      <td>37998.71</td>\n",
       "      <td>2021-01-13</td>\n",
       "    </tr>\n",
       "    <tr>\n",
       "      <th>9998997710</th>\n",
       "      <td>HEALING WATERS WICHITA, LC</td>\n",
       "      <td>232800.0</td>\n",
       "      <td>GA</td>\n",
       "      <td>5830 Bond Street</td>\n",
       "      <td>Cummng</td>\n",
       "      <td>30040-0312</td>\n",
       "      <td>NaN</td>\n",
       "      <td>Limited  Liability Company(LLC)</td>\n",
       "      <td>27</td>\n",
       "      <td>2020-05-01</td>\n",
       "      <td>...</td>\n",
       "      <td>FORSYTH</td>\n",
       "      <td>GA</td>\n",
       "      <td>30040-0312</td>\n",
       "      <td>LAKE SUCCESS</td>\n",
       "      <td>NY</td>\n",
       "      <td>NaN</td>\n",
       "      <td>317954</td>\n",
       "      <td>N</td>\n",
       "      <td>NaN</td>\n",
       "      <td>NaN</td>\n",
       "    </tr>\n",
       "    <tr>\n",
       "      <th>9998998303</th>\n",
       "      <td>SHINIQUE PERSONS</td>\n",
       "      <td>2669.0</td>\n",
       "      <td>GA</td>\n",
       "      <td>150 Oakbrook Ln</td>\n",
       "      <td>Covington</td>\n",
       "      <td>30016-5940</td>\n",
       "      <td>812112.0</td>\n",
       "      <td>Independent Contractors</td>\n",
       "      <td>1</td>\n",
       "      <td>2021-01-31</td>\n",
       "      <td>...</td>\n",
       "      <td>NEWTON</td>\n",
       "      <td>GA</td>\n",
       "      <td>30016-5940</td>\n",
       "      <td>Atlanta</td>\n",
       "      <td>GA</td>\n",
       "      <td>NaN</td>\n",
       "      <td>529113</td>\n",
       "      <td>Y</td>\n",
       "      <td>NaN</td>\n",
       "      <td>NaN</td>\n",
       "    </tr>\n",
       "    <tr>\n",
       "      <th>9999007305</th>\n",
       "      <td>194 CONSULTING SOULTIONS LLC</td>\n",
       "      <td>21083.0</td>\n",
       "      <td>GA</td>\n",
       "      <td>3276 HIGHWAY 330</td>\n",
       "      <td>STATHAM</td>\n",
       "      <td>30666</td>\n",
       "      <td>541330.0</td>\n",
       "      <td>Limited  Liability Company(LLC)</td>\n",
       "      <td>1</td>\n",
       "      <td>2020-05-03</td>\n",
       "      <td>...</td>\n",
       "      <td>BARROW</td>\n",
       "      <td>GA</td>\n",
       "      <td>30666-0001</td>\n",
       "      <td>SIOUX FALLS</td>\n",
       "      <td>SD</td>\n",
       "      <td>2021-05-12</td>\n",
       "      <td>12096</td>\n",
       "      <td>N</td>\n",
       "      <td>21276.50</td>\n",
       "      <td>2021-04-08</td>\n",
       "    </tr>\n",
       "  </tbody>\n",
       "</table>\n",
       "<p>553828 rows × 40 columns</p>\n",
       "</div>"
      ],
      "text/plain": [
       "                                           name     amount state  \\\n",
       "loan_number                                                        \n",
       "1000019005                          HA T NGUYEN    12752.0    GA   \n",
       "1000028404                     RAPHAEL AUGUSTIN    18708.0    GA   \n",
       "1000028807                         MORIAH CROWE    13752.0    GA   \n",
       "1000078408   NBWS CONTRACTING AND LOGISTICS LLC     3665.0    GA   \n",
       "1000088607                          STACIE NEAL     7946.0    GA   \n",
       "...                                         ...        ...   ...   \n",
       "9998958607                        HONORBUILTLLC  1404200.0    GA   \n",
       "9998977007                     MOJO PIZZA, INC.    37720.0    GA   \n",
       "9998997710           HEALING WATERS WICHITA, LC   232800.0    GA   \n",
       "9998998303                     SHINIQUE PERSONS     2669.0    GA   \n",
       "9999007305         194 CONSULTING SOULTIONS LLC    21083.0    GA   \n",
       "\n",
       "                          address        city         zip  naics_code  \\\n",
       "loan_number                                                             \n",
       "1000019005   345 Big Creek Ln N/A    Ringgold  30736-8562    812113.0   \n",
       "1000028404    1047 Gun Club Rd NW     Atlanta  30318-3909    485320.0   \n",
       "1000028807    674 Yonah Meadow Dr   Cleveland  30528-4777    711190.0   \n",
       "1000078408          603 Trevor St  Hinesville  31313-3943    236118.0   \n",
       "1000088607         976 Revere Way     Hampton  30228-5973    611699.0   \n",
       "...                           ...         ...         ...         ...   \n",
       "9998958607    1221 Bickham Way SE      Smyrna  30080-3952    541519.0   \n",
       "9998977007    657 East Lake Drive     Decatur  30030-3535    722511.0   \n",
       "9998997710       5830 Bond Street      Cummng  30040-0312         NaN   \n",
       "9998998303        150 Oakbrook Ln   Covington  30016-5940    812112.0   \n",
       "9999007305       3276 HIGHWAY 330     STATHAM       30666    541330.0   \n",
       "\n",
       "                               business_type  jobs_retained date_approved  \\\n",
       "loan_number                                                                 \n",
       "1000019005           Independent Contractors              1    2021-05-12   \n",
       "1000028404               Sole Proprietorship              1    2021-01-31   \n",
       "1000028807               Sole Proprietorship              1    2021-04-09   \n",
       "1000078408   Limited  Liability Company(LLC)              1    2021-01-31   \n",
       "1000088607               Sole Proprietorship              1    2021-03-12   \n",
       "...                                      ...            ...           ...   \n",
       "9998958607   Limited  Liability Company(LLC)            171    2021-03-26   \n",
       "9998977007                       Corporation             10    2020-04-09   \n",
       "9998997710   Limited  Liability Company(LLC)             27    2020-05-01   \n",
       "9998998303           Independent Contractors              1    2021-01-31   \n",
       "9999007305   Limited  Liability Company(LLC)              1    2020-05-03   \n",
       "\n",
       "             ... project_county_name project_state  project_zip  \\\n",
       "loan_number  ...                                                  \n",
       "1000019005   ...             CATOOSA            GA   30736-8562   \n",
       "1000028404   ...              FULTON            GA   30318-3909   \n",
       "1000028807   ...               WHITE            GA   30528-4777   \n",
       "1000078408   ...             LIBERTY            GA   31313-3943   \n",
       "1000088607   ...               HENRY            GA   30228-5973   \n",
       "...          ...                 ...           ...          ...   \n",
       "9998958607   ...                COBB            GA   30080-3952   \n",
       "9998977007   ...              DEKALB            GA   30030-3535   \n",
       "9998997710   ...             FORSYTH            GA   30040-0312   \n",
       "9998998303   ...              NEWTON            GA   30016-5940   \n",
       "9999007305   ...              BARROW            GA   30666-0001   \n",
       "\n",
       "            originating_lender_city originating_lender_state  \\\n",
       "loan_number                                                    \n",
       "1000019005                ARLINGTON                       MA   \n",
       "1000028404                  Atlanta                       GA   \n",
       "1000028807                  TEANECK                       NJ   \n",
       "1000078408                   VIENNA                       VA   \n",
       "1000088607                  TEANECK                       NJ   \n",
       "...                             ...                      ...   \n",
       "9998958607              BLAIRSVILLE                       GA   \n",
       "9998977007                   TUCKER                       GA   \n",
       "9998997710             LAKE SUCCESS                       NY   \n",
       "9998998303                  Atlanta                       GA   \n",
       "9999007305              SIOUX FALLS                       SD   \n",
       "\n",
       "             loan_status_date  originating_lender_location_id  lmi_indicator  \\\n",
       "loan_number                                                                    \n",
       "1000019005                NaN                          262380              N   \n",
       "1000028404                NaN                          529113              Y   \n",
       "1000028807                NaN                          456756              N   \n",
       "1000078408                NaN                           93956              N   \n",
       "1000088607                NaN                          456756              Y   \n",
       "...                       ...                             ...            ...   \n",
       "9998958607         2021-08-21                           19133              N   \n",
       "9998977007         2021-02-05                          526415              N   \n",
       "9998997710                NaN                          317954              N   \n",
       "9998998303                NaN                          529113              Y   \n",
       "9999007305         2021-05-12                           12096              N   \n",
       "\n",
       "             forgiveness_amount  forgiveness_date  \n",
       "loan_number                                        \n",
       "1000019005             12788.33        2021-09-21  \n",
       "1000028404                  NaN               NaN  \n",
       "1000028807                  NaN               NaN  \n",
       "1000078408                  NaN               NaN  \n",
       "1000088607                  NaN               NaN  \n",
       "...                         ...               ...  \n",
       "9998958607           1408008.65        2021-07-08  \n",
       "9998977007             37998.71        2021-01-13  \n",
       "9998997710                  NaN               NaN  \n",
       "9998998303                  NaN               NaN  \n",
       "9999007305             21276.50        2021-04-08  \n",
       "\n",
       "[553828 rows x 40 columns]"
      ]
     },
     "execution_count": 3,
     "metadata": {},
     "output_type": "execute_result"
    }
   ],
   "source": [
    "# Loading non-remove dataset\n",
    "df_nremove = pd.read_csv(\"ppp_applicants_ga_full.csv\", index_col = \"loan_number\")\n",
    "df_nremove.sort_index(inplace= True)\n",
    "df_nremove\n"
   ]
  },
  {
   "cell_type": "code",
   "execution_count": 4,
   "id": "b0c4e973-22ef-4d6a-b305-6bbe2b3e5c23",
   "metadata": {},
   "outputs": [
    {
     "data": {
      "text/html": [
       "<div>\n",
       "<style scoped>\n",
       "    .dataframe tbody tr th:only-of-type {\n",
       "        vertical-align: middle;\n",
       "    }\n",
       "\n",
       "    .dataframe tbody tr th {\n",
       "        vertical-align: top;\n",
       "    }\n",
       "\n",
       "    .dataframe thead th {\n",
       "        text-align: right;\n",
       "    }\n",
       "</style>\n",
       "<table border=\"1\" class=\"dataframe\">\n",
       "  <thead>\n",
       "    <tr style=\"text-align: right;\">\n",
       "      <th></th>\n",
       "      <th>name</th>\n",
       "      <th>amount</th>\n",
       "      <th>state</th>\n",
       "      <th>address</th>\n",
       "      <th>city</th>\n",
       "      <th>zip</th>\n",
       "      <th>naics_code</th>\n",
       "      <th>business_type</th>\n",
       "      <th>jobs_retained</th>\n",
       "      <th>date_approved</th>\n",
       "      <th>...</th>\n",
       "      <th>project_county_name</th>\n",
       "      <th>project_state</th>\n",
       "      <th>project_zip</th>\n",
       "      <th>originating_lender_city</th>\n",
       "      <th>originating_lender_state</th>\n",
       "      <th>loan_status_date</th>\n",
       "      <th>originating_lender_location_id</th>\n",
       "      <th>lmi_indicator</th>\n",
       "      <th>forgiveness_amount</th>\n",
       "      <th>forgiveness_date</th>\n",
       "    </tr>\n",
       "    <tr>\n",
       "      <th>loan_number</th>\n",
       "      <th></th>\n",
       "      <th></th>\n",
       "      <th></th>\n",
       "      <th></th>\n",
       "      <th></th>\n",
       "      <th></th>\n",
       "      <th></th>\n",
       "      <th></th>\n",
       "      <th></th>\n",
       "      <th></th>\n",
       "      <th></th>\n",
       "      <th></th>\n",
       "      <th></th>\n",
       "      <th></th>\n",
       "      <th></th>\n",
       "      <th></th>\n",
       "      <th></th>\n",
       "      <th></th>\n",
       "      <th></th>\n",
       "      <th></th>\n",
       "      <th></th>\n",
       "    </tr>\n",
       "  </thead>\n",
       "  <tbody>\n",
       "    <tr>\n",
       "      <th>1000249004</th>\n",
       "      <td>DAMION PANTON</td>\n",
       "      <td>3351.0</td>\n",
       "      <td>GA</td>\n",
       "      <td>390 Trelawney Cir N/A</td>\n",
       "      <td>Covington</td>\n",
       "      <td>30016-6872</td>\n",
       "      <td>238990</td>\n",
       "      <td>Independent Contractors</td>\n",
       "      <td>1</td>\n",
       "      <td>2021-05-12</td>\n",
       "      <td>...</td>\n",
       "      <td>NEWTON</td>\n",
       "      <td>GA</td>\n",
       "      <td>30016-6872</td>\n",
       "      <td>ARLINGTON</td>\n",
       "      <td>MA</td>\n",
       "      <td>2021-05-12</td>\n",
       "      <td>262380</td>\n",
       "      <td>Y</td>\n",
       "      <td>NaN</td>\n",
       "      <td>NaN</td>\n",
       "    </tr>\n",
       "    <tr>\n",
       "      <th>1000529005</th>\n",
       "      <td>GRIGGS TOWING AND TRANSPORTING</td>\n",
       "      <td>10599.0</td>\n",
       "      <td>GA</td>\n",
       "      <td>11622 Post Rd N/A</td>\n",
       "      <td>Shady Dale</td>\n",
       "      <td>31085-3401</td>\n",
       "      <td>488410</td>\n",
       "      <td>Limited  Liability Company(LLC)</td>\n",
       "      <td>1</td>\n",
       "      <td>2021-05-12</td>\n",
       "      <td>...</td>\n",
       "      <td>JASPER</td>\n",
       "      <td>GA</td>\n",
       "      <td>31085-3401</td>\n",
       "      <td>ARLINGTON</td>\n",
       "      <td>MA</td>\n",
       "      <td>2021-05-12</td>\n",
       "      <td>262380</td>\n",
       "      <td>N</td>\n",
       "      <td>NaN</td>\n",
       "      <td>NaN</td>\n",
       "    </tr>\n",
       "    <tr>\n",
       "      <th>1000589001</th>\n",
       "      <td>JASON BROOKINS</td>\n",
       "      <td>34000.0</td>\n",
       "      <td>GA</td>\n",
       "      <td>10 Brookins Rd N/A</td>\n",
       "      <td>Hazlehurst</td>\n",
       "      <td>31539-5746</td>\n",
       "      <td>333243</td>\n",
       "      <td>Sole Proprietorship</td>\n",
       "      <td>1</td>\n",
       "      <td>2021-05-12</td>\n",
       "      <td>...</td>\n",
       "      <td>JEFF DAVIS</td>\n",
       "      <td>GA</td>\n",
       "      <td>31539-5746</td>\n",
       "      <td>ARLINGTON</td>\n",
       "      <td>MA</td>\n",
       "      <td>2021-05-12</td>\n",
       "      <td>262380</td>\n",
       "      <td>N</td>\n",
       "      <td>NaN</td>\n",
       "      <td>NaN</td>\n",
       "    </tr>\n",
       "    <tr>\n",
       "      <th>1000629000</th>\n",
       "      <td>LEGACY REMODELING LLC</td>\n",
       "      <td>20833.0</td>\n",
       "      <td>GA</td>\n",
       "      <td>138 Franklin Blvd N/A</td>\n",
       "      <td>Fort Valley</td>\n",
       "      <td>31030-8416</td>\n",
       "      <td>236118</td>\n",
       "      <td>Single Member LLC</td>\n",
       "      <td>1</td>\n",
       "      <td>2021-05-12</td>\n",
       "      <td>...</td>\n",
       "      <td>PEACH</td>\n",
       "      <td>GA</td>\n",
       "      <td>31030-8416</td>\n",
       "      <td>ARLINGTON</td>\n",
       "      <td>MA</td>\n",
       "      <td>2021-05-12</td>\n",
       "      <td>262380</td>\n",
       "      <td>Y</td>\n",
       "      <td>NaN</td>\n",
       "      <td>NaN</td>\n",
       "    </tr>\n",
       "    <tr>\n",
       "      <th>1000658906</th>\n",
       "      <td>KARE PACKAGE MEDIA LLC</td>\n",
       "      <td>13688.0</td>\n",
       "      <td>GA</td>\n",
       "      <td>1782 Broad River Rd N/A</td>\n",
       "      <td>Atlanta</td>\n",
       "      <td>30349-9159</td>\n",
       "      <td>334613</td>\n",
       "      <td>Single Member LLC</td>\n",
       "      <td>1</td>\n",
       "      <td>2021-04-24</td>\n",
       "      <td>...</td>\n",
       "      <td>FULTON</td>\n",
       "      <td>GA</td>\n",
       "      <td>30349-9159</td>\n",
       "      <td>PHOENIXVILLE</td>\n",
       "      <td>PA</td>\n",
       "      <td>2021-04-24</td>\n",
       "      <td>121536</td>\n",
       "      <td>N</td>\n",
       "      <td>NaN</td>\n",
       "      <td>NaN</td>\n",
       "    </tr>\n",
       "    <tr>\n",
       "      <th>...</th>\n",
       "      <td>...</td>\n",
       "      <td>...</td>\n",
       "      <td>...</td>\n",
       "      <td>...</td>\n",
       "      <td>...</td>\n",
       "      <td>...</td>\n",
       "      <td>...</td>\n",
       "      <td>...</td>\n",
       "      <td>...</td>\n",
       "      <td>...</td>\n",
       "      <td>...</td>\n",
       "      <td>...</td>\n",
       "      <td>...</td>\n",
       "      <td>...</td>\n",
       "      <td>...</td>\n",
       "      <td>...</td>\n",
       "      <td>...</td>\n",
       "      <td>...</td>\n",
       "      <td>...</td>\n",
       "      <td>...</td>\n",
       "      <td>...</td>\n",
       "    </tr>\n",
       "    <tr>\n",
       "      <th>9997918909</th>\n",
       "      <td>ERIC DOWELL</td>\n",
       "      <td>19316.0</td>\n",
       "      <td>GA</td>\n",
       "      <td>104 Rockwell Dr N/A</td>\n",
       "      <td>Lagrange</td>\n",
       "      <td>30240-9713</td>\n",
       "      <td>531190</td>\n",
       "      <td>Limited  Liability Company(LLC)</td>\n",
       "      <td>1</td>\n",
       "      <td>2021-05-12</td>\n",
       "      <td>...</td>\n",
       "      <td>TROUP</td>\n",
       "      <td>GA</td>\n",
       "      <td>30240-9713</td>\n",
       "      <td>ARLINGTON</td>\n",
       "      <td>MA</td>\n",
       "      <td>2021-05-12</td>\n",
       "      <td>262380</td>\n",
       "      <td>N</td>\n",
       "      <td>NaN</td>\n",
       "      <td>NaN</td>\n",
       "    </tr>\n",
       "    <tr>\n",
       "      <th>9998068905</th>\n",
       "      <td>MICHAEL CANTRELL</td>\n",
       "      <td>11250.0</td>\n",
       "      <td>GA</td>\n",
       "      <td>334 Sioux St N/A</td>\n",
       "      <td>Locust Grove</td>\n",
       "      <td>30248-3580</td>\n",
       "      <td>811111</td>\n",
       "      <td>Sole Proprietorship</td>\n",
       "      <td>1</td>\n",
       "      <td>2021-05-12</td>\n",
       "      <td>...</td>\n",
       "      <td>HENRY</td>\n",
       "      <td>GA</td>\n",
       "      <td>30248-3580</td>\n",
       "      <td>ARLINGTON</td>\n",
       "      <td>MA</td>\n",
       "      <td>2021-05-12</td>\n",
       "      <td>262380</td>\n",
       "      <td>N</td>\n",
       "      <td>NaN</td>\n",
       "      <td>NaN</td>\n",
       "    </tr>\n",
       "    <tr>\n",
       "      <th>9998198909</th>\n",
       "      <td>SHAMSI ZANJANIFAR</td>\n",
       "      <td>11008.0</td>\n",
       "      <td>GA</td>\n",
       "      <td>5530 Windward Pkwy Ste 220</td>\n",
       "      <td>Alpharetta</td>\n",
       "      <td>30004-8967</td>\n",
       "      <td>812112</td>\n",
       "      <td>Sole Proprietorship</td>\n",
       "      <td>1</td>\n",
       "      <td>2021-05-12</td>\n",
       "      <td>...</td>\n",
       "      <td>FULTON</td>\n",
       "      <td>GA</td>\n",
       "      <td>30004-8967</td>\n",
       "      <td>ARLINGTON</td>\n",
       "      <td>MA</td>\n",
       "      <td>2021-05-12</td>\n",
       "      <td>262380</td>\n",
       "      <td>N</td>\n",
       "      <td>NaN</td>\n",
       "      <td>NaN</td>\n",
       "    </tr>\n",
       "    <tr>\n",
       "      <th>9998588908</th>\n",
       "      <td>VONRAY DESIGNS</td>\n",
       "      <td>20833.0</td>\n",
       "      <td>GA</td>\n",
       "      <td>218 Floyd St N/A</td>\n",
       "      <td>Savannah</td>\n",
       "      <td>31401-4002</td>\n",
       "      <td>541490</td>\n",
       "      <td>Partnership</td>\n",
       "      <td>1</td>\n",
       "      <td>2021-05-12</td>\n",
       "      <td>...</td>\n",
       "      <td>CHATHAM</td>\n",
       "      <td>GA</td>\n",
       "      <td>31401-4002</td>\n",
       "      <td>ARLINGTON</td>\n",
       "      <td>MA</td>\n",
       "      <td>2021-05-12</td>\n",
       "      <td>262380</td>\n",
       "      <td>Y</td>\n",
       "      <td>NaN</td>\n",
       "      <td>NaN</td>\n",
       "    </tr>\n",
       "    <tr>\n",
       "      <th>9998678802</th>\n",
       "      <td>CARLESIA BARLOW</td>\n",
       "      <td>20832.0</td>\n",
       "      <td>GA</td>\n",
       "      <td>2135 Godby Rd Apt 11-133</td>\n",
       "      <td>Atlanta</td>\n",
       "      <td>30349-3311</td>\n",
       "      <td>624410</td>\n",
       "      <td>Sole Proprietorship</td>\n",
       "      <td>1</td>\n",
       "      <td>2021-04-24</td>\n",
       "      <td>...</td>\n",
       "      <td>FULTON</td>\n",
       "      <td>GA</td>\n",
       "      <td>30349-3311</td>\n",
       "      <td>Phoenix</td>\n",
       "      <td>AZ</td>\n",
       "      <td>2021-04-24</td>\n",
       "      <td>188361</td>\n",
       "      <td>N</td>\n",
       "      <td>NaN</td>\n",
       "      <td>NaN</td>\n",
       "    </tr>\n",
       "  </tbody>\n",
       "</table>\n",
       "<p>25836 rows × 40 columns</p>\n",
       "</div>"
      ],
      "text/plain": [
       "                                       name   amount state  \\\n",
       "loan_number                                                  \n",
       "1000249004                    DAMION PANTON   3351.0    GA   \n",
       "1000529005   GRIGGS TOWING AND TRANSPORTING  10599.0    GA   \n",
       "1000589001                   JASON BROOKINS  34000.0    GA   \n",
       "1000629000            LEGACY REMODELING LLC  20833.0    GA   \n",
       "1000658906           KARE PACKAGE MEDIA LLC  13688.0    GA   \n",
       "...                                     ...      ...   ...   \n",
       "9997918909                      ERIC DOWELL  19316.0    GA   \n",
       "9998068905                 MICHAEL CANTRELL  11250.0    GA   \n",
       "9998198909                SHAMSI ZANJANIFAR  11008.0    GA   \n",
       "9998588908                   VONRAY DESIGNS  20833.0    GA   \n",
       "9998678802                  CARLESIA BARLOW  20832.0    GA   \n",
       "\n",
       "                                address          city         zip  naics_code  \\\n",
       "loan_number                                                                     \n",
       "1000249004        390 Trelawney Cir N/A     Covington  30016-6872      238990   \n",
       "1000529005            11622 Post Rd N/A    Shady Dale  31085-3401      488410   \n",
       "1000589001           10 Brookins Rd N/A    Hazlehurst  31539-5746      333243   \n",
       "1000629000        138 Franklin Blvd N/A   Fort Valley  31030-8416      236118   \n",
       "1000658906      1782 Broad River Rd N/A       Atlanta  30349-9159      334613   \n",
       "...                                 ...           ...         ...         ...   \n",
       "9997918909          104 Rockwell Dr N/A      Lagrange  30240-9713      531190   \n",
       "9998068905             334 Sioux St N/A  Locust Grove  30248-3580      811111   \n",
       "9998198909   5530 Windward Pkwy Ste 220    Alpharetta  30004-8967      812112   \n",
       "9998588908             218 Floyd St N/A      Savannah  31401-4002      541490   \n",
       "9998678802     2135 Godby Rd Apt 11-133       Atlanta  30349-3311      624410   \n",
       "\n",
       "                               business_type  jobs_retained date_approved  \\\n",
       "loan_number                                                                 \n",
       "1000249004           Independent Contractors              1    2021-05-12   \n",
       "1000529005   Limited  Liability Company(LLC)              1    2021-05-12   \n",
       "1000589001               Sole Proprietorship              1    2021-05-12   \n",
       "1000629000                 Single Member LLC              1    2021-05-12   \n",
       "1000658906                 Single Member LLC              1    2021-04-24   \n",
       "...                                      ...            ...           ...   \n",
       "9997918909   Limited  Liability Company(LLC)              1    2021-05-12   \n",
       "9998068905               Sole Proprietorship              1    2021-05-12   \n",
       "9998198909               Sole Proprietorship              1    2021-05-12   \n",
       "9998588908                       Partnership              1    2021-05-12   \n",
       "9998678802               Sole Proprietorship              1    2021-04-24   \n",
       "\n",
       "             ... project_county_name project_state  project_zip  \\\n",
       "loan_number  ...                                                  \n",
       "1000249004   ...              NEWTON            GA   30016-6872   \n",
       "1000529005   ...              JASPER            GA   31085-3401   \n",
       "1000589001   ...          JEFF DAVIS            GA   31539-5746   \n",
       "1000629000   ...               PEACH            GA   31030-8416   \n",
       "1000658906   ...              FULTON            GA   30349-9159   \n",
       "...          ...                 ...           ...          ...   \n",
       "9997918909   ...               TROUP            GA   30240-9713   \n",
       "9998068905   ...               HENRY            GA   30248-3580   \n",
       "9998198909   ...              FULTON            GA   30004-8967   \n",
       "9998588908   ...             CHATHAM            GA   31401-4002   \n",
       "9998678802   ...              FULTON            GA   30349-3311   \n",
       "\n",
       "            originating_lender_city originating_lender_state  \\\n",
       "loan_number                                                    \n",
       "1000249004                ARLINGTON                       MA   \n",
       "1000529005                ARLINGTON                       MA   \n",
       "1000589001                ARLINGTON                       MA   \n",
       "1000629000                ARLINGTON                       MA   \n",
       "1000658906             PHOENIXVILLE                       PA   \n",
       "...                             ...                      ...   \n",
       "9997918909                ARLINGTON                       MA   \n",
       "9998068905                ARLINGTON                       MA   \n",
       "9998198909                ARLINGTON                       MA   \n",
       "9998588908                ARLINGTON                       MA   \n",
       "9998678802                  Phoenix                       AZ   \n",
       "\n",
       "             loan_status_date  originating_lender_location_id  lmi_indicator  \\\n",
       "loan_number                                                                    \n",
       "1000249004         2021-05-12                          262380              Y   \n",
       "1000529005         2021-05-12                          262380              N   \n",
       "1000589001         2021-05-12                          262380              N   \n",
       "1000629000         2021-05-12                          262380              Y   \n",
       "1000658906         2021-04-24                          121536              N   \n",
       "...                       ...                             ...            ...   \n",
       "9997918909         2021-05-12                          262380              N   \n",
       "9998068905         2021-05-12                          262380              N   \n",
       "9998198909         2021-05-12                          262380              N   \n",
       "9998588908         2021-05-12                          262380              Y   \n",
       "9998678802         2021-04-24                          188361              N   \n",
       "\n",
       "             forgiveness_amount  forgiveness_date  \n",
       "loan_number                                        \n",
       "1000249004                  NaN               NaN  \n",
       "1000529005                  NaN               NaN  \n",
       "1000589001                  NaN               NaN  \n",
       "1000629000                  NaN               NaN  \n",
       "1000658906                  NaN               NaN  \n",
       "...                         ...               ...  \n",
       "9997918909                  NaN               NaN  \n",
       "9998068905                  NaN               NaN  \n",
       "9998198909                  NaN               NaN  \n",
       "9998588908                  NaN               NaN  \n",
       "9998678802                  NaN               NaN  \n",
       "\n",
       "[25836 rows x 40 columns]"
      ]
     },
     "execution_count": 4,
     "metadata": {},
     "output_type": "execute_result"
    }
   ],
   "source": [
    "# Loading remove dataset\n",
    "df_remove = pd.read_csv(\"ppp-removed-ga.csv\", index_col = \"loan_number\")\n",
    "df_remove.sort_index(inplace= True)\n",
    "df_remove\n"
   ]
  },
  {
   "cell_type": "code",
   "execution_count": 5,
   "id": "ec0f14ec-784e-4d4b-8b65-3cd1a35dfaa2",
   "metadata": {},
   "outputs": [
    {
     "data": {
      "text/html": [
       "<div>\n",
       "<style scoped>\n",
       "    .dataframe tbody tr th:only-of-type {\n",
       "        vertical-align: middle;\n",
       "    }\n",
       "\n",
       "    .dataframe tbody tr th {\n",
       "        vertical-align: top;\n",
       "    }\n",
       "\n",
       "    .dataframe thead th {\n",
       "        text-align: right;\n",
       "    }\n",
       "</style>\n",
       "<table border=\"1\" class=\"dataframe\">\n",
       "  <thead>\n",
       "    <tr style=\"text-align: right;\">\n",
       "      <th></th>\n",
       "      <th>zip</th>\n",
       "      <th>lat</th>\n",
       "      <th>lng</th>\n",
       "    </tr>\n",
       "  </thead>\n",
       "  <tbody>\n",
       "    <tr>\n",
       "      <th>0</th>\n",
       "      <td>00601</td>\n",
       "      <td>18.180555</td>\n",
       "      <td>-66.749961</td>\n",
       "    </tr>\n",
       "    <tr>\n",
       "      <th>1</th>\n",
       "      <td>00602</td>\n",
       "      <td>18.361945</td>\n",
       "      <td>-67.175597</td>\n",
       "    </tr>\n",
       "    <tr>\n",
       "      <th>2</th>\n",
       "      <td>00603</td>\n",
       "      <td>18.455183</td>\n",
       "      <td>-67.119887</td>\n",
       "    </tr>\n",
       "    <tr>\n",
       "      <th>3</th>\n",
       "      <td>00606</td>\n",
       "      <td>18.158345</td>\n",
       "      <td>-66.932911</td>\n",
       "    </tr>\n",
       "    <tr>\n",
       "      <th>4</th>\n",
       "      <td>00610</td>\n",
       "      <td>18.295366</td>\n",
       "      <td>-67.125135</td>\n",
       "    </tr>\n",
       "    <tr>\n",
       "      <th>...</th>\n",
       "      <td>...</td>\n",
       "      <td>...</td>\n",
       "      <td>...</td>\n",
       "    </tr>\n",
       "    <tr>\n",
       "      <th>33139</th>\n",
       "      <td>99923</td>\n",
       "      <td>56.002315</td>\n",
       "      <td>-130.041026</td>\n",
       "    </tr>\n",
       "    <tr>\n",
       "      <th>33140</th>\n",
       "      <td>99925</td>\n",
       "      <td>55.550204</td>\n",
       "      <td>-132.945933</td>\n",
       "    </tr>\n",
       "    <tr>\n",
       "      <th>33141</th>\n",
       "      <td>99926</td>\n",
       "      <td>55.138352</td>\n",
       "      <td>-131.470424</td>\n",
       "    </tr>\n",
       "    <tr>\n",
       "      <th>33142</th>\n",
       "      <td>99927</td>\n",
       "      <td>56.239062</td>\n",
       "      <td>-133.457924</td>\n",
       "    </tr>\n",
       "    <tr>\n",
       "      <th>33143</th>\n",
       "      <td>99929</td>\n",
       "      <td>56.370751</td>\n",
       "      <td>-131.693301</td>\n",
       "    </tr>\n",
       "  </tbody>\n",
       "</table>\n",
       "<p>33144 rows × 3 columns</p>\n",
       "</div>"
      ],
      "text/plain": [
       "         zip        lat         lng\n",
       "0      00601  18.180555  -66.749961\n",
       "1      00602  18.361945  -67.175597\n",
       "2      00603  18.455183  -67.119887\n",
       "3      00606  18.158345  -66.932911\n",
       "4      00610  18.295366  -67.125135\n",
       "...      ...        ...         ...\n",
       "33139  99923  56.002315 -130.041026\n",
       "33140  99925  55.550204 -132.945933\n",
       "33141  99926  55.138352 -131.470424\n",
       "33142  99927  56.239062 -133.457924\n",
       "33143  99929  56.370751 -131.693301\n",
       "\n",
       "[33144 rows x 3 columns]"
      ]
     },
     "execution_count": 5,
     "metadata": {},
     "output_type": "execute_result"
    }
   ],
   "source": [
    "# Loading geographic system dataset. \n",
    "zip_geo = pd.read_csv(\"US Zip Codes from 2013 Government Data.csv\", delimiter= \",\", converters={'ZIP': lambda x: str(x)})\n",
    "zip_geo.rename(columns={\"ZIP\": \"zip\", \"LAT\": \"lat\", \"LNG\": \"lng\"}, inplace = True)\n",
    "zip_geo\n"
   ]
  },
  {
   "cell_type": "code",
   "execution_count": 6,
   "id": "77155b65-5114-4c14-9372-f36997d05df7",
   "metadata": {},
   "outputs": [],
   "source": [
    "# Rename zip to borrower zip in non-remove and removed datasets.\n",
    "df_nremove.rename(columns={\"zip\": \"borrower_zip\"}, inplace = True)\n",
    "df_remove.rename(columns={\"zip\": \"borrower_zip\"}, inplace = True)\n"
   ]
  },
  {
   "cell_type": "code",
   "execution_count": 7,
   "id": "75af21ea-4f88-4663-8a66-a49e4eedc68a",
   "metadata": {},
   "outputs": [],
   "source": [
    "# Make borrower and lender's zip code to five digits.\n",
    "df_nremove[\"borrower_zip\"] = df_nremove[\"borrower_zip\"].str.extract(r\"(\\d{5})\")\n",
    "df_remove[\"borrower_zip\"] = df_remove[\"borrower_zip\"].str.extract(r\"(\\d{5})\")\n",
    "df_nremove[\"servicing_lender_zip\"] = df_nremove[\"servicing_lender_zip\"].str.extract(r\"(\\d{5})\")\n",
    "df_remove[\"servicing_lender_zip\"] = df_remove[\"servicing_lender_zip\"].str.extract(r\"(\\d{5})\")"
   ]
  },
  {
   "cell_type": "code",
   "execution_count": 8,
   "id": "7bfb0228-7529-4e75-bff2-d5987742bb77",
   "metadata": {},
   "outputs": [],
   "source": [
    "# Make NAICS cose to two digits and replace NA with 81.\n",
    "df_nremove[\"naics_code\"].fillna(\"81\", inplace = True) \n",
    "df_remove[\"naics_code\"].fillna(\"81\", inplace = True) \n",
    "df_nremove[\"naics_code\"]= df_nremove[\"naics_code\"].astype('string').str.extract(r\"(\\d{2})\")\n",
    "df_remove[\"naics_code\"]= df_remove[\"naics_code\"].astype('string').str.extract(r\"(\\d{2})\")\n"
   ]
  },
  {
   "cell_type": "code",
   "execution_count": 9,
   "id": "347dee3e-7560-4efe-88f9-72a31da9a1f3",
   "metadata": {},
   "outputs": [],
   "source": [
    "# Mark non-remove data with nr and removed data with r.\n",
    "df_nremove['mark'] = 'nr'\n",
    "df_remove['mark'] = 'r'\n"
   ]
  },
  {
   "cell_type": "markdown",
   "id": "af276583-d4bc-4502-9eef-460460a57ad7",
   "metadata": {},
   "source": [
    "We added one extra variable to indicate which observation belongs to removed or non-removed loan. If an observation belongs to removed loan, we \"mark\" it as r. If an observation belongs to non-removed loan, we \"mark\" it as nr. \n",
    "\n",
    "In the following model prediction part, \"mark\" will serve as our output."
   ]
  },
  {
   "cell_type": "code",
   "execution_count": 10,
   "id": "123d0885-1df7-428c-88d9-68309b28b6f8",
   "metadata": {},
   "outputs": [
    {
     "data": {
      "text/html": [
       "<div>\n",
       "<style scoped>\n",
       "    .dataframe tbody tr th:only-of-type {\n",
       "        vertical-align: middle;\n",
       "    }\n",
       "\n",
       "    .dataframe tbody tr th {\n",
       "        vertical-align: top;\n",
       "    }\n",
       "\n",
       "    .dataframe thead th {\n",
       "        text-align: right;\n",
       "    }\n",
       "</style>\n",
       "<table border=\"1\" class=\"dataframe\">\n",
       "  <thead>\n",
       "    <tr style=\"text-align: right;\">\n",
       "      <th></th>\n",
       "      <th>name</th>\n",
       "      <th>amount</th>\n",
       "      <th>state</th>\n",
       "      <th>address</th>\n",
       "      <th>city</th>\n",
       "      <th>borrower_zip</th>\n",
       "      <th>naics_code</th>\n",
       "      <th>business_type</th>\n",
       "      <th>jobs_retained</th>\n",
       "      <th>date_approved</th>\n",
       "      <th>...</th>\n",
       "      <th>project_state</th>\n",
       "      <th>project_zip</th>\n",
       "      <th>originating_lender_city</th>\n",
       "      <th>originating_lender_state</th>\n",
       "      <th>loan_status_date</th>\n",
       "      <th>originating_lender_location_id</th>\n",
       "      <th>lmi_indicator</th>\n",
       "      <th>forgiveness_amount</th>\n",
       "      <th>forgiveness_date</th>\n",
       "      <th>mark</th>\n",
       "    </tr>\n",
       "    <tr>\n",
       "      <th>loan_number</th>\n",
       "      <th></th>\n",
       "      <th></th>\n",
       "      <th></th>\n",
       "      <th></th>\n",
       "      <th></th>\n",
       "      <th></th>\n",
       "      <th></th>\n",
       "      <th></th>\n",
       "      <th></th>\n",
       "      <th></th>\n",
       "      <th></th>\n",
       "      <th></th>\n",
       "      <th></th>\n",
       "      <th></th>\n",
       "      <th></th>\n",
       "      <th></th>\n",
       "      <th></th>\n",
       "      <th></th>\n",
       "      <th></th>\n",
       "      <th></th>\n",
       "      <th></th>\n",
       "    </tr>\n",
       "  </thead>\n",
       "  <tbody>\n",
       "    <tr>\n",
       "      <th>1000019005</th>\n",
       "      <td>HA T NGUYEN</td>\n",
       "      <td>12752.0</td>\n",
       "      <td>GA</td>\n",
       "      <td>345 Big Creek Ln N/A</td>\n",
       "      <td>Ringgold</td>\n",
       "      <td>30736</td>\n",
       "      <td>81</td>\n",
       "      <td>Independent Contractors</td>\n",
       "      <td>1</td>\n",
       "      <td>2021-05-12</td>\n",
       "      <td>...</td>\n",
       "      <td>GA</td>\n",
       "      <td>30736-8562</td>\n",
       "      <td>ARLINGTON</td>\n",
       "      <td>MA</td>\n",
       "      <td>NaN</td>\n",
       "      <td>262380</td>\n",
       "      <td>N</td>\n",
       "      <td>12788.33</td>\n",
       "      <td>2021-09-21</td>\n",
       "      <td>nr</td>\n",
       "    </tr>\n",
       "    <tr>\n",
       "      <th>1000028404</th>\n",
       "      <td>RAPHAEL AUGUSTIN</td>\n",
       "      <td>18708.0</td>\n",
       "      <td>GA</td>\n",
       "      <td>1047 Gun Club Rd NW</td>\n",
       "      <td>Atlanta</td>\n",
       "      <td>30318</td>\n",
       "      <td>48</td>\n",
       "      <td>Sole Proprietorship</td>\n",
       "      <td>1</td>\n",
       "      <td>2021-01-31</td>\n",
       "      <td>...</td>\n",
       "      <td>GA</td>\n",
       "      <td>30318-3909</td>\n",
       "      <td>Atlanta</td>\n",
       "      <td>GA</td>\n",
       "      <td>NaN</td>\n",
       "      <td>529113</td>\n",
       "      <td>Y</td>\n",
       "      <td>NaN</td>\n",
       "      <td>NaN</td>\n",
       "      <td>nr</td>\n",
       "    </tr>\n",
       "    <tr>\n",
       "      <th>1000028807</th>\n",
       "      <td>MORIAH CROWE</td>\n",
       "      <td>13752.0</td>\n",
       "      <td>GA</td>\n",
       "      <td>674 Yonah Meadow Dr</td>\n",
       "      <td>Cleveland</td>\n",
       "      <td>30528</td>\n",
       "      <td>71</td>\n",
       "      <td>Sole Proprietorship</td>\n",
       "      <td>1</td>\n",
       "      <td>2021-04-09</td>\n",
       "      <td>...</td>\n",
       "      <td>GA</td>\n",
       "      <td>30528-4777</td>\n",
       "      <td>TEANECK</td>\n",
       "      <td>NJ</td>\n",
       "      <td>NaN</td>\n",
       "      <td>456756</td>\n",
       "      <td>N</td>\n",
       "      <td>NaN</td>\n",
       "      <td>NaN</td>\n",
       "      <td>nr</td>\n",
       "    </tr>\n",
       "    <tr>\n",
       "      <th>1000078408</th>\n",
       "      <td>NBWS CONTRACTING AND LOGISTICS LLC</td>\n",
       "      <td>3665.0</td>\n",
       "      <td>GA</td>\n",
       "      <td>603 Trevor St</td>\n",
       "      <td>Hinesville</td>\n",
       "      <td>31313</td>\n",
       "      <td>23</td>\n",
       "      <td>Limited  Liability Company(LLC)</td>\n",
       "      <td>1</td>\n",
       "      <td>2021-01-31</td>\n",
       "      <td>...</td>\n",
       "      <td>GA</td>\n",
       "      <td>31313-3943</td>\n",
       "      <td>VIENNA</td>\n",
       "      <td>VA</td>\n",
       "      <td>NaN</td>\n",
       "      <td>93956</td>\n",
       "      <td>N</td>\n",
       "      <td>NaN</td>\n",
       "      <td>NaN</td>\n",
       "      <td>nr</td>\n",
       "    </tr>\n",
       "    <tr>\n",
       "      <th>1000088607</th>\n",
       "      <td>STACIE NEAL</td>\n",
       "      <td>7946.0</td>\n",
       "      <td>GA</td>\n",
       "      <td>976 Revere Way</td>\n",
       "      <td>Hampton</td>\n",
       "      <td>30228</td>\n",
       "      <td>61</td>\n",
       "      <td>Sole Proprietorship</td>\n",
       "      <td>1</td>\n",
       "      <td>2021-03-12</td>\n",
       "      <td>...</td>\n",
       "      <td>GA</td>\n",
       "      <td>30228-5973</td>\n",
       "      <td>TEANECK</td>\n",
       "      <td>NJ</td>\n",
       "      <td>NaN</td>\n",
       "      <td>456756</td>\n",
       "      <td>Y</td>\n",
       "      <td>NaN</td>\n",
       "      <td>NaN</td>\n",
       "      <td>nr</td>\n",
       "    </tr>\n",
       "    <tr>\n",
       "      <th>...</th>\n",
       "      <td>...</td>\n",
       "      <td>...</td>\n",
       "      <td>...</td>\n",
       "      <td>...</td>\n",
       "      <td>...</td>\n",
       "      <td>...</td>\n",
       "      <td>...</td>\n",
       "      <td>...</td>\n",
       "      <td>...</td>\n",
       "      <td>...</td>\n",
       "      <td>...</td>\n",
       "      <td>...</td>\n",
       "      <td>...</td>\n",
       "      <td>...</td>\n",
       "      <td>...</td>\n",
       "      <td>...</td>\n",
       "      <td>...</td>\n",
       "      <td>...</td>\n",
       "      <td>...</td>\n",
       "      <td>...</td>\n",
       "      <td>...</td>\n",
       "    </tr>\n",
       "    <tr>\n",
       "      <th>9997918909</th>\n",
       "      <td>ERIC DOWELL</td>\n",
       "      <td>19316.0</td>\n",
       "      <td>GA</td>\n",
       "      <td>104 Rockwell Dr N/A</td>\n",
       "      <td>Lagrange</td>\n",
       "      <td>30240</td>\n",
       "      <td>53</td>\n",
       "      <td>Limited  Liability Company(LLC)</td>\n",
       "      <td>1</td>\n",
       "      <td>2021-05-12</td>\n",
       "      <td>...</td>\n",
       "      <td>GA</td>\n",
       "      <td>30240-9713</td>\n",
       "      <td>ARLINGTON</td>\n",
       "      <td>MA</td>\n",
       "      <td>2021-05-12</td>\n",
       "      <td>262380</td>\n",
       "      <td>N</td>\n",
       "      <td>NaN</td>\n",
       "      <td>NaN</td>\n",
       "      <td>r</td>\n",
       "    </tr>\n",
       "    <tr>\n",
       "      <th>9998068905</th>\n",
       "      <td>MICHAEL CANTRELL</td>\n",
       "      <td>11250.0</td>\n",
       "      <td>GA</td>\n",
       "      <td>334 Sioux St N/A</td>\n",
       "      <td>Locust Grove</td>\n",
       "      <td>30248</td>\n",
       "      <td>81</td>\n",
       "      <td>Sole Proprietorship</td>\n",
       "      <td>1</td>\n",
       "      <td>2021-05-12</td>\n",
       "      <td>...</td>\n",
       "      <td>GA</td>\n",
       "      <td>30248-3580</td>\n",
       "      <td>ARLINGTON</td>\n",
       "      <td>MA</td>\n",
       "      <td>2021-05-12</td>\n",
       "      <td>262380</td>\n",
       "      <td>N</td>\n",
       "      <td>NaN</td>\n",
       "      <td>NaN</td>\n",
       "      <td>r</td>\n",
       "    </tr>\n",
       "    <tr>\n",
       "      <th>9998198909</th>\n",
       "      <td>SHAMSI ZANJANIFAR</td>\n",
       "      <td>11008.0</td>\n",
       "      <td>GA</td>\n",
       "      <td>5530 Windward Pkwy Ste 220</td>\n",
       "      <td>Alpharetta</td>\n",
       "      <td>30004</td>\n",
       "      <td>81</td>\n",
       "      <td>Sole Proprietorship</td>\n",
       "      <td>1</td>\n",
       "      <td>2021-05-12</td>\n",
       "      <td>...</td>\n",
       "      <td>GA</td>\n",
       "      <td>30004-8967</td>\n",
       "      <td>ARLINGTON</td>\n",
       "      <td>MA</td>\n",
       "      <td>2021-05-12</td>\n",
       "      <td>262380</td>\n",
       "      <td>N</td>\n",
       "      <td>NaN</td>\n",
       "      <td>NaN</td>\n",
       "      <td>r</td>\n",
       "    </tr>\n",
       "    <tr>\n",
       "      <th>9998588908</th>\n",
       "      <td>VONRAY DESIGNS</td>\n",
       "      <td>20833.0</td>\n",
       "      <td>GA</td>\n",
       "      <td>218 Floyd St N/A</td>\n",
       "      <td>Savannah</td>\n",
       "      <td>31401</td>\n",
       "      <td>54</td>\n",
       "      <td>Partnership</td>\n",
       "      <td>1</td>\n",
       "      <td>2021-05-12</td>\n",
       "      <td>...</td>\n",
       "      <td>GA</td>\n",
       "      <td>31401-4002</td>\n",
       "      <td>ARLINGTON</td>\n",
       "      <td>MA</td>\n",
       "      <td>2021-05-12</td>\n",
       "      <td>262380</td>\n",
       "      <td>Y</td>\n",
       "      <td>NaN</td>\n",
       "      <td>NaN</td>\n",
       "      <td>r</td>\n",
       "    </tr>\n",
       "    <tr>\n",
       "      <th>9998678802</th>\n",
       "      <td>CARLESIA BARLOW</td>\n",
       "      <td>20832.0</td>\n",
       "      <td>GA</td>\n",
       "      <td>2135 Godby Rd Apt 11-133</td>\n",
       "      <td>Atlanta</td>\n",
       "      <td>30349</td>\n",
       "      <td>62</td>\n",
       "      <td>Sole Proprietorship</td>\n",
       "      <td>1</td>\n",
       "      <td>2021-04-24</td>\n",
       "      <td>...</td>\n",
       "      <td>GA</td>\n",
       "      <td>30349-3311</td>\n",
       "      <td>Phoenix</td>\n",
       "      <td>AZ</td>\n",
       "      <td>2021-04-24</td>\n",
       "      <td>188361</td>\n",
       "      <td>N</td>\n",
       "      <td>NaN</td>\n",
       "      <td>NaN</td>\n",
       "      <td>r</td>\n",
       "    </tr>\n",
       "  </tbody>\n",
       "</table>\n",
       "<p>579664 rows × 41 columns</p>\n",
       "</div>"
      ],
      "text/plain": [
       "                                           name   amount state  \\\n",
       "loan_number                                                      \n",
       "1000019005                          HA T NGUYEN  12752.0    GA   \n",
       "1000028404                     RAPHAEL AUGUSTIN  18708.0    GA   \n",
       "1000028807                         MORIAH CROWE  13752.0    GA   \n",
       "1000078408   NBWS CONTRACTING AND LOGISTICS LLC   3665.0    GA   \n",
       "1000088607                          STACIE NEAL   7946.0    GA   \n",
       "...                                         ...      ...   ...   \n",
       "9997918909                          ERIC DOWELL  19316.0    GA   \n",
       "9998068905                     MICHAEL CANTRELL  11250.0    GA   \n",
       "9998198909                    SHAMSI ZANJANIFAR  11008.0    GA   \n",
       "9998588908                       VONRAY DESIGNS  20833.0    GA   \n",
       "9998678802                      CARLESIA BARLOW  20832.0    GA   \n",
       "\n",
       "                                address          city borrower_zip naics_code  \\\n",
       "loan_number                                                                     \n",
       "1000019005         345 Big Creek Ln N/A      Ringgold        30736         81   \n",
       "1000028404          1047 Gun Club Rd NW       Atlanta        30318         48   \n",
       "1000028807          674 Yonah Meadow Dr     Cleveland        30528         71   \n",
       "1000078408                603 Trevor St    Hinesville        31313         23   \n",
       "1000088607               976 Revere Way       Hampton        30228         61   \n",
       "...                                 ...           ...          ...        ...   \n",
       "9997918909          104 Rockwell Dr N/A      Lagrange        30240         53   \n",
       "9998068905             334 Sioux St N/A  Locust Grove        30248         81   \n",
       "9998198909   5530 Windward Pkwy Ste 220    Alpharetta        30004         81   \n",
       "9998588908             218 Floyd St N/A      Savannah        31401         54   \n",
       "9998678802     2135 Godby Rd Apt 11-133       Atlanta        30349         62   \n",
       "\n",
       "                               business_type  jobs_retained date_approved  \\\n",
       "loan_number                                                                 \n",
       "1000019005           Independent Contractors              1    2021-05-12   \n",
       "1000028404               Sole Proprietorship              1    2021-01-31   \n",
       "1000028807               Sole Proprietorship              1    2021-04-09   \n",
       "1000078408   Limited  Liability Company(LLC)              1    2021-01-31   \n",
       "1000088607               Sole Proprietorship              1    2021-03-12   \n",
       "...                                      ...            ...           ...   \n",
       "9997918909   Limited  Liability Company(LLC)              1    2021-05-12   \n",
       "9998068905               Sole Proprietorship              1    2021-05-12   \n",
       "9998198909               Sole Proprietorship              1    2021-05-12   \n",
       "9998588908                       Partnership              1    2021-05-12   \n",
       "9998678802               Sole Proprietorship              1    2021-04-24   \n",
       "\n",
       "             ... project_state project_zip  originating_lender_city  \\\n",
       "loan_number  ...                                                      \n",
       "1000019005   ...            GA  30736-8562                ARLINGTON   \n",
       "1000028404   ...            GA  30318-3909                  Atlanta   \n",
       "1000028807   ...            GA  30528-4777                  TEANECK   \n",
       "1000078408   ...            GA  31313-3943                   VIENNA   \n",
       "1000088607   ...            GA  30228-5973                  TEANECK   \n",
       "...          ...           ...         ...                      ...   \n",
       "9997918909   ...            GA  30240-9713                ARLINGTON   \n",
       "9998068905   ...            GA  30248-3580                ARLINGTON   \n",
       "9998198909   ...            GA  30004-8967                ARLINGTON   \n",
       "9998588908   ...            GA  31401-4002                ARLINGTON   \n",
       "9998678802   ...            GA  30349-3311                  Phoenix   \n",
       "\n",
       "            originating_lender_state loan_status_date  \\\n",
       "loan_number                                             \n",
       "1000019005                        MA              NaN   \n",
       "1000028404                        GA              NaN   \n",
       "1000028807                        NJ              NaN   \n",
       "1000078408                        VA              NaN   \n",
       "1000088607                        NJ              NaN   \n",
       "...                              ...              ...   \n",
       "9997918909                        MA       2021-05-12   \n",
       "9998068905                        MA       2021-05-12   \n",
       "9998198909                        MA       2021-05-12   \n",
       "9998588908                        MA       2021-05-12   \n",
       "9998678802                        AZ       2021-04-24   \n",
       "\n",
       "             originating_lender_location_id  lmi_indicator  \\\n",
       "loan_number                                                  \n",
       "1000019005                           262380              N   \n",
       "1000028404                           529113              Y   \n",
       "1000028807                           456756              N   \n",
       "1000078408                            93956              N   \n",
       "1000088607                           456756              Y   \n",
       "...                                     ...            ...   \n",
       "9997918909                           262380              N   \n",
       "9998068905                           262380              N   \n",
       "9998198909                           262380              N   \n",
       "9998588908                           262380              Y   \n",
       "9998678802                           188361              N   \n",
       "\n",
       "             forgiveness_amount  forgiveness_date  mark  \n",
       "loan_number                                              \n",
       "1000019005             12788.33        2021-09-21    nr  \n",
       "1000028404                  NaN               NaN    nr  \n",
       "1000028807                  NaN               NaN    nr  \n",
       "1000078408                  NaN               NaN    nr  \n",
       "1000088607                  NaN               NaN    nr  \n",
       "...                         ...               ...   ...  \n",
       "9997918909                  NaN               NaN     r  \n",
       "9998068905                  NaN               NaN     r  \n",
       "9998198909                  NaN               NaN     r  \n",
       "9998588908                  NaN               NaN     r  \n",
       "9998678802                  NaN               NaN     r  \n",
       "\n",
       "[579664 rows x 41 columns]"
      ]
     },
     "execution_count": 10,
     "metadata": {},
     "output_type": "execute_result"
    }
   ],
   "source": [
    "# Join two dataset\n",
    "df = pd.concat([df_nremove, df_remove])\n",
    "df \n"
   ]
  },
  {
   "cell_type": "code",
   "execution_count": 11,
   "id": "424fc4f9-71ef-4ac8-aeae-668186053191",
   "metadata": {},
   "outputs": [],
   "source": [
    "# Connect zip code with corresponding latitude and longtitude.\n",
    "df = pd.merge(df, zip_geo, how = 'left', left_on='borrower_zip', right_on='zip').rename(columns={\"lat\": \"borrower_lat\", \"lng\": \"borrower_lng\"})\n"
   ]
  },
  {
   "cell_type": "code",
   "execution_count": 12,
   "id": "1003ebc4-45cd-42b2-abf0-e4876e59cf6d",
   "metadata": {},
   "outputs": [],
   "source": [
    "# Connect zip code with corresponding latitude and longtitude.\n",
    "df = pd.merge(df, zip_geo, how = 'left', left_on='servicing_lender_zip', right_on='zip').rename(columns={\"lat\": \"servicing_lender_lat\", \"lng\": \"servicing_lender_lng\"})\n"
   ]
  },
  {
   "cell_type": "code",
   "execution_count": 13,
   "id": "742697f5-854d-4367-b94f-3bec8742bad1",
   "metadata": {},
   "outputs": [],
   "source": [
    "# Remove NA\n",
    "df = df[df['borrower_lat'].notna()]\n",
    "df = df[df['borrower_lng'].notna()]\n",
    "df = df[df['servicing_lender_lat'].notna()]\n",
    "df = df[df['servicing_lender_lng'].notna()]\n"
   ]
  },
  {
   "cell_type": "code",
   "execution_count": 14,
   "id": "5a24b40f-be85-4f88-a1c7-b5b97d3c422f",
   "metadata": {},
   "outputs": [],
   "source": [
    "# Convert datatype\n",
    "df['sba_office_code'] = df['sba_office_code'].astype('category')\n"
   ]
  },
  {
   "cell_type": "code",
   "execution_count": 15,
   "id": "ed7a2aaf-4f36-4667-b28d-eafd0a4c8c03",
   "metadata": {},
   "outputs": [],
   "source": [
    "# Make deravative variable\n",
    "df['amount_diff'] = df[\"amount\"] - df[\"initial_approval_amount\"]\n",
    "\n",
    "# Make year, month, yearmonth out of data_approved\n",
    "df['year'] = pd.DatetimeIndex(df['date_approved']).year\n",
    "df['month'] = pd.DatetimeIndex(df['date_approved']).month\n",
    "df['yearmonth'] = pd.to_datetime(df['date_approved']).dt.to_period('M')\n",
    "\n",
    "# Extract decimal from initial approval amount\n",
    "df['decimal'] = df['initial_approval_amount'].astype(str).str.split('.').str[1].astype(int)\n",
    "\n",
    "# 1 = if decimal not equal to 0, 0 = if decimal equal to 0\n",
    "df['if_decimal_equal_zero'] = df['decimal'].map(lambda x: 1 if x != 0 else 0)\n",
    "\n",
    "# Replace NA with 0\n",
    "df['forgiveness_amount'] = df['forgiveness_amount'].replace(np.nan, 0)\n"
   ]
  },
  {
   "cell_type": "code",
   "execution_count": 16,
   "id": "f0759239-1dc7-4cf8-88c4-2b3c85d669fc",
   "metadata": {},
   "outputs": [],
   "source": [
    "# business_type column classification\n",
    "df['business_type'] = df['business_type'].fillna(0).astype(str)\n",
    "\n",
    "m1 = df['business_type'].str.contains(\"Profit\")\n",
    "m2 = df['business_type'].str.contains(\"Independent|Sole|Single|Individuals|spouses\")\n",
    "m3 = df['business_type'].str.contains(\"Cooperative|Corporation|ESOP|Liability|Trust|Partnership|Professional|Joint Venture\")\n",
    "\n",
    "df['business_type_classification'] = np.select([m1,m2,m3], ['Non_Profit','Small_Company','Corporation'], default='Others')\n",
    "\n"
   ]
  },
  {
   "cell_type": "markdown",
   "id": "39b14fd0-064b-429d-a0fc-7d2ec029b43e",
   "metadata": {},
   "source": [
    "### Exploratory Data Analysis\n",
    "\n",
    "After data processing, we then used Exploratory Data Analysis (EDA) to visualize data and explore the relationship between variables. Among 41 variables, we identified 16 variables that had different characteristics between non-removed and removed loans. \n",
    "\n",
    "For instance, among business types, the sole company had an unreal-high removal rate, and applications approved in April and May 2021 had a high removal rate. We also found that compared to non-removed applications, removed applications had a lower percentage of initial approval amount with decimals."
   ]
  },
  {
   "cell_type": "code",
   "execution_count": 17,
   "id": "6281b1ed-94f5-4ab1-aad9-4568b63d34f3",
   "metadata": {},
   "outputs": [],
   "source": [
    "# Loading librabries for EDA\n",
    "import matplotlib.pyplot as plt\n",
    "import seaborn as sns"
   ]
  },
  {
   "cell_type": "code",
   "execution_count": 18,
   "id": "1e992399-c703-46b2-a1eb-fce7a39d8acf",
   "metadata": {},
   "outputs": [
    {
     "data": {
      "text/plain": [
       "<AxesSubplot:xlabel='borrower_zip', ylabel='Count'>"
      ]
     },
     "execution_count": 18,
     "metadata": {},
     "output_type": "execute_result"
    },
    {
     "data": {
      "image/png": "[encoded data removed]",
      "text/plain": [
       "<Figure size 1152x864 with 1 Axes>"
      ]
     },
     "metadata": {
      "needs_background": "light"
     },
     "output_type": "display_data"
    }
   ],
   "source": [
    "# plot the histogram of borrower's zip code\n",
    "fig = plt.figure(figsize=(16,12))\n",
    "\n",
    "sns.histplot(data=df, x=\"borrower_zip\", hue=\"mark\", multiple=\"dodge\")"
   ]
  },
  {
   "cell_type": "code",
   "execution_count": 27,
   "id": "7d449564-f89e-480a-af76-772a102d7a63",
   "metadata": {},
   "outputs": [
    {
     "data": {
      "text/plain": [
       "Text(0, 0.5, 'ZIP code')"
      ]
     },
     "execution_count": 27,
     "metadata": {},
     "output_type": "execute_result"
    },
    {
     "data": {
      "image/png": "[encoded data removed]",
      "text/plain": [
       "<Figure size 432x432 with 1 Axes>"
      ]
     },
     "metadata": {
      "needs_background": "light"
     },
     "output_type": "display_data"
    }
   ],
   "source": [
    "plt.title('Top 10 Borrower ZIP codes by Total Removed Loan Applications',fontdict={'fontsize':15, 'color':'maroon', 'weight':'bold'})\n",
    "plt.xticks(fontsize=14)\n",
    "plt.yticks(fontsize=14)\n",
    "\n",
    "g = df[df['mark'] == 'r'].groupby(['borrower_zip']).size().sort_values(ascending = False).head(10).sort_values().plot.barh(x='borrower_zip', figsize=(6, 6),color='blue',alpha=0.6, width=0.7)\n",
    "g.set_ylabel(\"ZIP code\", fontsize = 14)"
   ]
  },
  {
   "cell_type": "markdown",
   "id": "0b064e87-a521-438e-b84b-4b1c81057fe7",
   "metadata": {},
   "source": [
    "#### Borrower zip code\n",
    "According to the histogram, we can see that part of zip codes have more applicants and might be relevant to removal rate. 30349, 30331 and 30058 are top 3 zip codes that have the highest removal rate. This variable can provide info to distinguish between removed and non-removed loans. We would select this variable to feed into our predictive model.\n",
    "* NOTE: before feed borrower zip code to predictive model, we would transform it to latitude and longtitude for better reflect geologic information."
   ]
  },
  {
   "cell_type": "code",
   "execution_count": 19,
   "id": "d892321d-29cd-496e-bb4c-6ed4ffa4f767",
   "metadata": {},
   "outputs": [
    {
     "name": "stdout",
     "output_type": "stream",
     "text": [
      "405    575694\n",
      "464         4\n",
      "455         4\n",
      "202         2\n",
      "457         2\n",
      "491         1\n",
      "761         1\n",
      "721         1\n",
      "681         1\n",
      "610         1\n",
      "507         1\n",
      "101         1\n",
      "474         1\n",
      "189         1\n",
      "460         1\n",
      "459         1\n",
      "353         1\n",
      "912         1\n",
      "Name: sba_office_code, dtype: int64\n"
     ]
    },
    {
     "data": {
      "text/plain": [
       "<AxesSubplot:xlabel='sba_office_code', ylabel='count'>"
      ]
     },
     "execution_count": 19,
     "metadata": {},
     "output_type": "execute_result"
    },
    {
     "data": {
      "image/png": "[encoded data removed]",
      "text/plain": [
       "<Figure size 1152x864 with 1 Axes>"
      ]
     },
     "metadata": {
      "needs_background": "light"
     },
     "output_type": "display_data"
    }
   ],
   "source": [
    "# SBA office code exploration\n",
    "print(df['sba_office_code'].value_counts())\n",
    "\n",
    "fig = plt.figure(figsize=(16,12))\n",
    "sns.countplot(data=df, x=\"sba_office_code\", hue=\"mark\")\n"
   ]
  },
  {
   "cell_type": "markdown",
   "id": "18e4089e-ff26-49a5-acab-de72cf7f2ee7",
   "metadata": {},
   "source": [
    "#### SBA office code\n",
    "Based on the stats, we can see that most of SBA office code are 405. Only few obervations have other SBA office code. Because SBA office code is too aggregated and provide limited info to distinguish removed and non-removed loans, we would not select this variable to feed into our predictive model."
   ]
  },
  {
   "cell_type": "code",
   "execution_count": 20,
   "id": "6d97f373-c126-445d-9ca8-4b60294a84cf",
   "metadata": {},
   "outputs": [
    {
     "name": "stdout",
     "output_type": "stream",
     "text": [
      "PPP    452853\n",
      "PPS    122866\n",
      "Name: processing_method, dtype: int64\n"
     ]
    },
    {
     "data": {
      "text/plain": [
       "processing_method  mark\n",
       "PPP                nr      95.433176\n",
       "                   r        4.566824\n",
       "PPS                nr      96.256084\n",
       "                   r        3.743916\n",
       "dtype: float64"
      ]
     },
     "execution_count": 20,
     "metadata": {},
     "output_type": "execute_result"
    },
    {
     "data": {
      "image/png": "[encoded data removed]",
      "text/plain": [
       "<Figure size 1152x864 with 1 Axes>"
      ]
     },
     "metadata": {
      "needs_background": "light"
     },
     "output_type": "display_data"
    }
   ],
   "source": [
    "#processing_method exploration\n",
    "print(df['processing_method'].value_counts())\n",
    "\n",
    "fig = plt.figure(figsize=(16,12))\n",
    "sns.countplot(data=df, x=\"processing_method\", hue=\"mark\")\n",
    "df.groupby([\"processing_method\", \"mark\"]).size().groupby(level = 0).apply(lambda x: 100 * x / float(x.sum()))"
   ]
  },
  {
   "cell_type": "markdown",
   "id": "f77f01dd-4c55-4621-a8cc-829bd317487a",
   "metadata": {},
   "source": [
    "#### Processing Method\n",
    "Based on the stats, we can see that two states of processing method, ppp and pps, have similar removal rate. Because processing method provide limited info to distinguish removed and non-removed loans, we would not select this variable to feed into our predictive model."
   ]
  },
  {
   "cell_type": "code",
   "execution_count": 21,
   "id": "9030e781-02f6-4a63-b370-d9788be79986",
   "metadata": {},
   "outputs": [
    {
     "name": "stdout",
     "output_type": "stream",
     "text": [
      "Paid in Full           277974\n",
      "Exemption 4            274583\n",
      "Active Un-Disbursed     23162\n",
      "Name: loan_status, dtype: int64\n"
     ]
    },
    {
     "data": {
      "text/plain": [
       "loan_status          mark\n",
       "Active Un-Disbursed  nr        1.485191\n",
       "                     r        98.514809\n",
       "Exemption 4          nr       99.103003\n",
       "                     r         0.896997\n",
       "Paid in Full         nr      100.000000\n",
       "dtype: float64"
      ]
     },
     "execution_count": 21,
     "metadata": {},
     "output_type": "execute_result"
    },
    {
     "data": {
      "image/png": "[encoded data removed]",
      "text/plain": [
       "<Figure size 1152x864 with 1 Axes>"
      ]
     },
     "metadata": {
      "needs_background": "light"
     },
     "output_type": "display_data"
    }
   ],
   "source": [
    "# Loan Status exploration\n",
    "print(df['loan_status'].value_counts())\n",
    "\n",
    "fig = plt.figure(figsize=(16,12))\n",
    "sns.countplot(data=df, x=\"loan_status\", hue=\"mark\")\n",
    "df.groupby([\"loan_status\", \"mark\"]).size().groupby(level = 0).apply(lambda x: 100 * x / float(x.sum()))\n"
   ]
  },
  {
   "cell_type": "markdown",
   "id": "45ae4d8d-4719-4459-9b2a-2baa39517f78",
   "metadata": {},
   "source": [
    "#### Loan status\n",
    "We can see from the graph that removed loans dominate Active Un-disbursed. On the other hand, paid in full only contains non-removed loans. The info provided by loan status can help us distinguish removed and non-removed loans. We would select this variable to feed into our predictive model.\n",
    "\n",
    "* Note: Exemption 4 protects \"trade secrets and commercial or financial information obtained from a person that is privileged or confidential.\" This exemption is intended to protect the interests of both the government and submitters of information."
   ]
  },
  {
   "cell_type": "code",
   "execution_count": 22,
   "id": "8ca0be3b-feb8-4272-b6f0-49fa08614d92",
   "metadata": {},
   "outputs": [
    {
     "name": "stdout",
     "output_type": "stream",
     "text": [
      "1      412424\n",
      "2       28111\n",
      "3       19450\n",
      "4       15636\n",
      "5       13253\n",
      "        ...  \n",
      "407         1\n",
      "431         1\n",
      "459         1\n",
      "381         1\n",
      "495         1\n",
      "Name: jobs_retained, Length: 461, dtype: int64\n"
     ]
    },
    {
     "data": {
      "text/plain": [
       "jobs_retained   mark\n",
       "(-0.5, 10.0]    nr       95.231408\n",
       "                r         4.768592\n",
       "(10.0, 20.0]    nr       99.559934\n",
       "                r         0.440066\n",
       "(20.0, 30.0]    nr       99.759010\n",
       "                           ...    \n",
       "(470.0, 480.0]  r         0.000000\n",
       "(480.0, 490.0]  nr      100.000000\n",
       "                r         0.000000\n",
       "(490.0, 500.0]  nr       99.200000\n",
       "                r         0.800000\n",
       "Length: 100, dtype: float64"
      ]
     },
     "execution_count": 22,
     "metadata": {},
     "output_type": "execute_result"
    },
    {
     "data": {
      "image/png": "[encoded data removed]",
      "text/plain": [
       "<Figure size 1152x864 with 1 Axes>"
      ]
     },
     "metadata": {
      "needs_background": "light"
     },
     "output_type": "display_data"
    }
   ],
   "source": [
    "# Jobs retained exploration\n",
    "print(df['jobs_retained'].value_counts())\n",
    "\n",
    "fig = plt.figure(figsize=(16,12))\n",
    "sns.histplot(data=df, x=\"jobs_retained\", hue=\"mark\", bins = 50, multiple = \"dodge\")\n",
    "df.groupby([pd.cut(df[\"jobs_retained\"], bins = 50), \"mark\"]).size().groupby(level = 0).apply(lambda x: 100 * x / float(x.sum()))\n"
   ]
  },
  {
   "cell_type": "markdown",
   "id": "1f7649c1-0215-427f-a706-314c6ae2f1cf",
   "metadata": {},
   "source": [
    "#### Jobs retained\n",
    "Jobs retained in removed loans concentrates in a range between 0 - 10. Jobs retained in non-removed loans has wider distribution from 0 to over 100. In vernacular, the info provided by jobs retained can help us distinguish removed and non-removed loans. We would select this variable to feed into our predictive model."
   ]
  },
  {
   "cell_type": "code",
   "execution_count": 23,
   "id": "f46da27b-533e-411a-8ab4-8a4d35f3c243",
   "metadata": {},
   "outputs": [
    {
     "data": {
      "text/plain": [
       "naics_code  mark\n",
       "11          nr      98.312937\n",
       "            r        1.687063\n",
       "21          nr      89.743590\n",
       "            r       10.256410\n",
       "22          nr      97.685185\n",
       "            r        2.314815\n",
       "23          nr      95.873612\n",
       "            r        4.126388\n",
       "31          nr      93.979505\n",
       "            r        6.020495\n",
       "32          nr      97.220738\n",
       "            r        2.779262\n",
       "33          nr      95.362595\n",
       "            r        4.637405\n",
       "42          nr      95.399321\n",
       "            r        4.600679\n",
       "44          nr      95.590214\n",
       "            r        4.409786\n",
       "45          nr      94.977335\n",
       "            r        5.022665\n",
       "48          nr      95.500998\n",
       "            r        4.499002\n",
       "49          nr      94.119868\n",
       "            r        5.880132\n",
       "51          nr      96.166050\n",
       "            r        3.833950\n",
       "52          nr      97.023856\n",
       "            r        2.976144\n",
       "53          nr      96.663099\n",
       "            r        3.336901\n",
       "54          nr      96.690584\n",
       "            r        3.309416\n",
       "55          nr      98.762036\n",
       "            r        1.237964\n",
       "56          nr      94.546373\n",
       "            r        5.453627\n",
       "61          nr      95.838347\n",
       "            r        4.161653\n",
       "62          nr      97.267175\n",
       "            r        2.732825\n",
       "71          nr      95.143747\n",
       "            r        4.856253\n",
       "72          nr      96.478583\n",
       "            r        3.521417\n",
       "81          nr      94.173024\n",
       "            r        5.826976\n",
       "92          nr      95.524297\n",
       "            r        4.475703\n",
       "99          nr      99.936082\n",
       "            r        0.063918\n",
       "dtype: float64"
      ]
     },
     "execution_count": 23,
     "metadata": {},
     "output_type": "execute_result"
    },
    {
     "data": {
      "image/png": "[encoded data removed]",
      "text/plain": [
       "<Figure size 1152x864 with 1 Axes>"
      ]
     },
     "metadata": {
      "needs_background": "light"
     },
     "output_type": "display_data"
    }
   ],
   "source": [
    "# NAICS code exploration\n",
    "fig = plt.figure(figsize=(16,12))\n",
    "\n",
    "sns.countplot(data=df, x=\"naics_code\", hue=\"mark\")\n",
    "df.groupby([\"naics_code\", \"mark\"]).size().groupby(level = 0).apply(lambda x: 100 * x / float(x.sum()))"
   ]
  },
  {
   "cell_type": "markdown",
   "id": "162e305b-035d-436b-8ccb-d69c1da247de",
   "metadata": {},
   "source": [
    "#### NAICS code\n",
    "NAICS code 81 has the most applicants, and 21 has the highest removal rate. The info provided by NAICS code can help us distinguish removed and non-removed loans. We would select this variable to feed into our predictive model."
   ]
  },
  {
   "cell_type": "code",
   "execution_count": 24,
   "id": "c1e7f428-5218-487c-9d06-120e8811cd28",
   "metadata": {},
   "outputs": [
    {
     "data": {
      "text/plain": [
       "servicing_lender_state  mark\n",
       "SD                      nr      100.000000\n",
       "ID                      nr      100.000000\n",
       "AR                      nr      100.000000\n",
       "OK                      nr      100.000000\n",
       "NC                      nr      100.000000\n",
       "MO                      nr      100.000000\n",
       "DE                      nr      100.000000\n",
       "OH                      nr       99.983764\n",
       "AL                      nr       99.963109\n",
       "TN                      nr       99.904008\n",
       "UT                      nr       99.895570\n",
       "MS                      nr       99.882353\n",
       "NJ                      nr       99.856640\n",
       "SC                      nr       99.763872\n",
       "GA                      nr       99.749839\n",
       "NE                      nr       98.671685\n",
       "WV                      nr       98.019802\n",
       "FL                      nr       97.781505\n",
       "NM                      nr       97.605893\n",
       "NY                      nr       97.219412\n",
       "VA                      nr       94.656489\n",
       "CA                      nr       92.672897\n",
       "AZ                      nr       90.791334\n",
       "PA                      nr       88.073746\n",
       "TX                      nr       87.713867\n",
       "MA                      r        78.940887\n",
       "                        nr       21.059113\n",
       "TX                      r        12.286133\n",
       "PA                      r        11.926254\n",
       "AZ                      r         9.208666\n",
       "CA                      r         7.327103\n",
       "VA                      r         5.343511\n",
       "NY                      r         2.780588\n",
       "NM                      r         2.394107\n",
       "FL                      r         2.218495\n",
       "WV                      r         1.980198\n",
       "NE                      r         1.328315\n",
       "GA                      r         0.250161\n",
       "SC                      r         0.236128\n",
       "NJ                      r         0.143360\n",
       "MS                      r         0.117647\n",
       "UT                      r         0.104430\n",
       "TN                      r         0.095992\n",
       "AL                      r         0.036891\n",
       "OH                      r         0.016236\n",
       "dtype: float64"
      ]
     },
     "execution_count": 24,
     "metadata": {},
     "output_type": "execute_result"
    }
   ],
   "source": [
    "# Servicing lender state exploration\n",
    "data_after = df.groupby('servicing_lender_state').filter(lambda x: len(x) > 500)\n",
    "data_after.groupby([\"servicing_lender_state\", \"mark\"]).size().groupby(level = 0).apply(lambda x: 100 * x / float(x.sum())).sort_values(ascending = False)\n"
   ]
  },
  {
   "cell_type": "markdown",
   "id": "fa4c8843-48d1-4bdd-a401-051ff7660a97",
   "metadata": {
    "tags": []
   },
   "source": [
    "#### Servicing lender state\n",
    "We can see from the stats that some stats have higher removal rate, while some stats have lower removal rate. Therefore, servicing lender state provide useful info to help us distinguish between removed and non-removed loans. However, we'd like to have more accurate geologic info, we would use servicing lender's zip code instead of servicing lender state.\n",
    "* NOTE: before feed borrower zip code to predictive model, we would transform it to latitude and longtitude for better reflect geologic information."
   ]
  },
  {
   "cell_type": "code",
   "execution_count": null,
   "id": "46153b72-89ea-4ec6-a94d-6fcf9b994de1",
   "metadata": {},
   "outputs": [],
   "source": [
    "# Servicing lender location id exploration\n",
    "df['servicing_lender_location_id']=df['servicing_lender_location_id'].astype(np.int64).astype(str)\n",
    "filter_cases = df.groupby('servicing_lender_location_id').filter(lambda x: len(x) > 50)\n",
    "after = filter_cases.groupby([\"servicing_lender_location_id\",\"servicing_lender_name\", \"mark\"]).size().groupby(level = 0).apply(lambda x: 100 * x / float(x.sum())).reset_index(drop=False)\\\n",
    ".sort_values(['mark',0], ascending = (False, False)).rename(columns={0:'proportion'}).head(10)\n",
    "\n",
    "g = after[after['mark'] == 'r'][after['proportion'] >= 1].sort_values('proportion').plot.barh(x='servicing_lender_name', figsize=(6, 6))\n",
    "plt.gca().xaxis.set_major_formatter(mtick.FormatStrFormatter('%.0f%%'))\n",
    "g.set_ylabel(None)\n",
    "g.set_title('Top 10 Application Removal Rate by Servicing Lender\\n(with at least 50 applications)', fontdict={'fontsize':15, 'color':'maroon', 'weight':'bold'})\n",
    "g.get_legend().remove()\n",
    "plt.xticks(fontsize=12)\n",
    "plt.yticks(fontsize=12)\n",
    "plt.show(g)"
   ]
  },
  {
   "cell_type": "code",
   "execution_count": 34,
   "id": "cfa0d889-e864-4791-b8fd-ec3a265a8419",
   "metadata": {
    "tags": []
   },
   "outputs": [
    {
     "data": {
      "text/plain": [
       "<AxesSubplot:xlabel='amount', ylabel='Count'>"
      ]
     },
     "execution_count": 34,
     "metadata": {},
     "output_type": "execute_result"
    },
    {
     "data": {
      "image/png": "[encoded data removed]",
      "text/plain": [
       "<Figure size 576x432 with 1 Axes>"
      ]
     },
     "metadata": {
      "needs_background": "light"
     },
     "output_type": "display_data"
    }
   ],
   "source": [
    "#amount exploration\n",
    "fig = plt.figure(figsize=(8,6))\n",
    "\n",
    "sns.histplot(data=df, x=np.log10(df[\"amount\"]), bins = 100, hue = \"mark\", multiple = \"dodge\")"
   ]
  },
  {
   "cell_type": "markdown",
   "id": "6f3e38fa-7811-4577-9658-a55bef4966f6",
   "metadata": {},
   "source": [
    "#### Amount\n",
    "Based on the dictionary, initial_approval_amount was the amount that borrower applied, current_approval_amount was the amount that lender approved after reviewing, and amount was the amount recorded at the time of data released by SBA. \n",
    "We found amount and current_approval_amount were the same. We would use amount to feed into our predictive model."
   ]
  },
  {
   "cell_type": "code",
   "execution_count": 44,
   "id": "2bb3da8d-8b46-4623-a895-4c04c1371322",
   "metadata": {},
   "outputs": [
    {
     "data": {
      "text/plain": [
       "<AxesSubplot:ylabel='Count'>"
      ]
     },
     "execution_count": 44,
     "metadata": {},
     "output_type": "execute_result"
    },
    {
     "data": {
      "image/png": "[encoded data removed]",
      "text/plain": [
       "<Figure size 576x432 with 1 Axes>"
      ]
     },
     "metadata": {
      "needs_background": "light"
     },
     "output_type": "display_data"
    }
   ],
   "source": [
    "fig = plt.figure(figsize=(8,6))\n",
    "\n",
    "sns.histplot(data=df_nremove, x=df_nremove[\"amount\"] - df_nremove[\"initial_approval_amount\"], bins = 100)"
   ]
  },
  {
   "cell_type": "code",
   "execution_count": 45,
   "id": "009a74d7-30d9-4d09-bcaa-b7d8847068df",
   "metadata": {},
   "outputs": [
    {
     "name": "stdout",
     "output_type": "stream",
     "text": [
      "count       73.000000\n",
      "mean     -8426.209315\n",
      "std      12441.541745\n",
      "min     -85000.000000\n",
      "25%     -14080.000000\n",
      "50%      -5900.000000\n",
      "75%      -2938.000000\n",
      "max      17083.000000\n",
      "Name: amount_diff, dtype: float64\n",
      "count    1.143100e+04\n",
      "mean    -1.820823e+04\n",
      "std      2.541527e+05\n",
      "min     -9.759655e+06\n",
      "25%     -9.999000e+03\n",
      "50%     -6.720000e+02\n",
      "75%      4.494000e+01\n",
      "max      4.351500e+06\n",
      "Name: amount_diff, dtype: float64\n"
     ]
    }
   ],
   "source": [
    "# amount difference exploration\n",
    "\n",
    "# amount_diff of removed loans at amount_diff not equal to zero\n",
    "print(df['amount_diff'][(df['mark'] == 'r') & (df['amount_diff']!=0)].describe())\n",
    "# amount_diff of non-removed loans at amount_diff not equal to zero\n",
    "print(df['amount_diff'][(df['mark'] == 'nr') & (df['amount_diff']!=0)].describe())"
   ]
  },
  {
   "cell_type": "code",
   "execution_count": 46,
   "id": "fc70e137-34b8-4e18-bfac-1bd5f91f4149",
   "metadata": {
    "tags": []
   },
   "outputs": [
    {
     "name": "stderr",
     "output_type": "stream",
     "text": [
      "/Users/yginger/opt/anaconda3/lib/python3.8/site-packages/seaborn/distributions.py:2619: FutureWarning: `distplot` is a deprecated function and will be removed in a future version. Please adapt your code to use either `displot` (a figure-level function with similar flexibility) or `histplot` (an axes-level function for histograms).\n",
      "  warnings.warn(msg, FutureWarning)\n"
     ]
    },
    {
     "data": {
      "text/plain": [
       "<AxesSubplot:ylabel='Density'>"
      ]
     },
     "execution_count": 46,
     "metadata": {},
     "output_type": "execute_result"
    },
    {
     "data": {
      "image/png": "[encoded data removed]",
      "text/plain": [
       "<Figure size 576x432 with 1 Axes>"
      ]
     },
     "metadata": {
      "needs_background": "light"
     },
     "output_type": "display_data"
    }
   ],
   "source": [
    "# Plot amount_diff of non-removed loans at amount_diff not equal to zero\n",
    "fig = plt.figure(figsize=(8,6))\n",
    "\n",
    "sns.distplot(x=df['amount_diff'][(df['mark'] == 'nr') & (df['amount_diff'] != 0)], bins = 100)"
   ]
  },
  {
   "cell_type": "code",
   "execution_count": 47,
   "id": "cff70659-a264-4b14-ab8e-2ebca5768199",
   "metadata": {},
   "outputs": [
    {
     "name": "stderr",
     "output_type": "stream",
     "text": [
      "/Users/yginger/opt/anaconda3/lib/python3.8/site-packages/seaborn/distributions.py:2619: FutureWarning: `distplot` is a deprecated function and will be removed in a future version. Please adapt your code to use either `displot` (a figure-level function with similar flexibility) or `histplot` (an axes-level function for histograms).\n",
      "  warnings.warn(msg, FutureWarning)\n"
     ]
    },
    {
     "data": {
      "text/plain": [
       "<AxesSubplot:ylabel='Density'>"
      ]
     },
     "execution_count": 47,
     "metadata": {},
     "output_type": "execute_result"
    },
    {
     "data": {
      "image/png": "[encoded data removed]",
      "text/plain": [
       "<Figure size 576x432 with 1 Axes>"
      ]
     },
     "metadata": {
      "needs_background": "light"
     },
     "output_type": "display_data"
    }
   ],
   "source": [
    "# Plot amount_diff of removed loans at amount_diff not equal to zero\n",
    "fig = plt.figure(figsize=(8,6))\n",
    "\n",
    "sns.distplot(x=df['amount_diff'][(df['mark'] == 'r') & (df['amount_diff']!=0)], bins = 100)"
   ]
  },
  {
   "cell_type": "markdown",
   "id": "e95cb1ca-44f2-4f83-99fe-d61ef5ba94ab",
   "metadata": {},
   "source": [
    "#### Amount difference\n",
    "Because initial_approval_amount was the amount that borrower applied and amount was the amount that lender approved after reviewing, if we use amount difference (amount - initial_approval_amount) can reflect the opinion of lender to the loan. If there was more negative on amount difference means lender was more reluctant to lend money to the borrower. \n",
    "\n",
    "Most of amount differences were zero, means in mose application, lenders were willing to lend the money that exactly equals to what borrower want to borrower. However, if we exclude amount differences eqaul zero, we found the median of removed loans were more negative than non-removed loans. This means compared to non-removed loans, lenders were more reluctant to lend money to the removed loans borrowers.\n",
    "\n",
    "Amount difference provides useful info and we would feed it into our predictive model."
   ]
  },
  {
   "cell_type": "code",
   "execution_count": 49,
   "id": "17e8b09e-a9b8-4c32-8beb-ffa1b5ac3f78",
   "metadata": {},
   "outputs": [
    {
     "data": {
      "text/plain": [
       "lmi_indicator  mark\n",
       "N              nr      96.000856\n",
       "               r        3.999144\n",
       "Y              nr      94.856468\n",
       "               r        5.143532\n",
       "dtype: float64"
      ]
     },
     "execution_count": 49,
     "metadata": {},
     "output_type": "execute_result"
    },
    {
     "data": {
      "image/png": "[encoded data removed]",
      "text/plain": [
       "<Figure size 576x432 with 1 Axes>"
      ]
     },
     "metadata": {
      "needs_background": "light"
     },
     "output_type": "display_data"
    }
   ],
   "source": [
    "#lmi_indicator exploration\n",
    "fig = plt.figure(figsize=(8,6))\n",
    "\n",
    "sns.histplot(data = df, x=df['lmi_indicator'], hue = df['mark'], bins = 100, multiple = 'dodge')\n",
    "\n",
    "df.groupby([\"lmi_indicator\", \"mark\"]).size().groupby(level = 0).apply(lambda x: 100 * x / float(x.sum()))"
   ]
  },
  {
   "cell_type": "code",
   "execution_count": 50,
   "id": "5889855c-5a93-43e2-8d64-5df507670ff0",
   "metadata": {},
   "outputs": [
    {
     "data": {
      "text/plain": [
       "hubzone_indicator  mark\n",
       "N                  nr      95.123555\n",
       "                   r        4.876445\n",
       "Y                  nr      96.635263\n",
       "                   r        3.364737\n",
       "dtype: float64"
      ]
     },
     "execution_count": 50,
     "metadata": {},
     "output_type": "execute_result"
    },
    {
     "data": {
      "image/png": "[encoded data removed]",
      "text/plain": [
       "<Figure size 576x432 with 1 Axes>"
      ]
     },
     "metadata": {
      "needs_background": "light"
     },
     "output_type": "display_data"
    }
   ],
   "source": [
    "# hubzon_indicator exploration\n",
    "fig = plt.figure(figsize=(8,6))\n",
    "\n",
    "sns.histplot(data = df, x=df['hubzone_indicator'], hue = df['mark'], bins = 100, multiple = 'dodge')\n",
    "\n",
    "df.groupby([\"hubzone_indicator\", \"mark\"]).size().groupby(level = 0).apply(lambda x: 100 * x / float(x.sum()))"
   ]
  },
  {
   "cell_type": "code",
   "execution_count": 51,
   "id": "0da006f4-c874-4413-912b-8fce8b3ce15e",
   "metadata": {},
   "outputs": [
    {
     "data": {
      "text/plain": [
       "rural_urban_indicator  mark\n",
       "R                      nr      95.896120\n",
       "                       r        4.103880\n",
       "U                      nr      95.526147\n",
       "                       r        4.473853\n",
       "dtype: float64"
      ]
     },
     "execution_count": 51,
     "metadata": {},
     "output_type": "execute_result"
    },
    {
     "data": {
      "image/png": "[encoded data removed]",
      "text/plain": [
       "<Figure size 576x432 with 1 Axes>"
      ]
     },
     "metadata": {
      "needs_background": "light"
     },
     "output_type": "display_data"
    }
   ],
   "source": [
    "#rural_urban_indicator exploration\n",
    "fig = plt.figure(figsize=(8,6))\n",
    "\n",
    "sns.histplot(data = df, x=df['rural_urban_indicator'], hue = df['mark'], bins = 100, multiple = 'dodge')\n",
    "df.groupby([\"rural_urban_indicator\", \"mark\"]).size().groupby(level = 0).apply(lambda x: 100 * x / float(x.sum()))"
   ]
  },
  {
   "cell_type": "markdown",
   "id": "afc49956-c77f-4744-839c-00c5889c572c",
   "metadata": {},
   "source": [
    "#### Lmi indicator, hubzone indicator, and rural_urban indicator\n",
    "For these three indicator, we can see that there are difference between removed and non-removed loans in lmi indicator and hubzone indicator. But there is no difference between removed and non-removed loans in rural_urban indicator.\n",
    "\n",
    "We would select lmi indicator and hubzone indicator to feed into our predictive model.\n"
   ]
  },
  {
   "cell_type": "code",
   "execution_count": 140,
   "id": "16d747e8-e082-4ba7-92b7-fc8ee37e96ff",
   "metadata": {},
   "outputs": [
    {
     "data": {
      "text/plain": [
       "(array([ 0,  1,  2,  3,  4,  5,  6,  7,  8,  9, 10]),\n",
       " [Text(0, 0, '2020-04'),\n",
       "  Text(1, 0, '2020-05'),\n",
       "  Text(2, 0, '2020-06'),\n",
       "  Text(3, 0, '2020-07'),\n",
       "  Text(4, 0, '2020-08'),\n",
       "  Text(5, 0, '2021-01'),\n",
       "  Text(6, 0, '2021-02'),\n",
       "  Text(7, 0, '2021-03'),\n",
       "  Text(8, 0, '2021-04'),\n",
       "  Text(9, 0, '2021-05'),\n",
       "  Text(10, 0, '2021-06')])"
      ]
     },
     "execution_count": 140,
     "metadata": {},
     "output_type": "execute_result"
    },
    {
     "data": {
      "image/png": "[encoded data removed]",
      "text/plain": [
       "<Figure size 432x288 with 1 Axes>"
      ]
     },
     "metadata": {
      "needs_background": "light"
     },
     "output_type": "display_data"
    }
   ],
   "source": [
    "# approval date exploration\n",
    "yearmonth = pd.DataFrame(df.groupby([\"yearmonth\", \"mark\"]).size().groupby(level = 0).apply(lambda x: 100 * x / float(x.sum()))).reset_index()\n",
    "\n",
    "yearmonth = yearmonth[yearmonth['mark'] == 'r'].rename(columns={0: 'removal rate'})\n",
    "\n",
    "ax = sns.barplot(data = yearmonth, x=yearmonth['yearmonth'].astype('category'), y = 'removal rate')\n",
    "plt.xticks(rotation=45)"
   ]
  },
  {
   "cell_type": "code",
   "execution_count": 32,
   "id": "74f63ac9-2ddc-424f-85de-01a1928ff33b",
   "metadata": {},
   "outputs": [
    {
     "name": "stderr",
     "output_type": "stream",
     "text": [
      "/var/folders/59/p50xxbtd4y5f88p88xxyc8bw0000gn/T/ipykernel_1037/2989677288.py:9: UserWarning: FixedFormatter should only be used together with FixedLocator\n",
      "  s.set_xticklabels(g.yearmonth,rotation=45, ha='right')\n"
     ]
    },
    {
     "ename": "NameError",
     "evalue": "name 'mtick' is not defined",
     "output_type": "error",
     "traceback": [
      "\u001b[0;31m---------------------------------------------------------------------------\u001b[0m",
      "\u001b[0;31mNameError\u001b[0m                                 Traceback (most recent call last)",
      "\u001b[0;32m/var/folders/59/p50xxbtd4y5f88p88xxyc8bw0000gn/T/ipykernel_1037/2989677288.py\u001b[0m in \u001b[0;36m<module>\u001b[0;34m\u001b[0m\n\u001b[1;32m     12\u001b[0m \u001b[0ms\u001b[0m\u001b[0;34m.\u001b[0m\u001b[0mset_ylabel\u001b[0m\u001b[0;34m(\u001b[0m\u001b[0;32mNone\u001b[0m\u001b[0;34m)\u001b[0m\u001b[0;34m\u001b[0m\u001b[0;34m\u001b[0m\u001b[0m\n\u001b[1;32m     13\u001b[0m \u001b[0ms\u001b[0m\u001b[0;34m.\u001b[0m\u001b[0mtick_params\u001b[0m\u001b[0;34m(\u001b[0m\u001b[0mlabelsize\u001b[0m\u001b[0;34m=\u001b[0m\u001b[0;36m18\u001b[0m\u001b[0;34m)\u001b[0m\u001b[0;34m\u001b[0m\u001b[0;34m\u001b[0m\u001b[0m\n\u001b[0;32m---> 14\u001b[0;31m \u001b[0mplt\u001b[0m\u001b[0;34m.\u001b[0m\u001b[0mgca\u001b[0m\u001b[0;34m(\u001b[0m\u001b[0;34m)\u001b[0m\u001b[0;34m.\u001b[0m\u001b[0myaxis\u001b[0m\u001b[0;34m.\u001b[0m\u001b[0mset_major_formatter\u001b[0m\u001b[0;34m(\u001b[0m\u001b[0mmtick\u001b[0m\u001b[0;34m.\u001b[0m\u001b[0mFormatStrFormatter\u001b[0m\u001b[0;34m(\u001b[0m\u001b[0;34m'%.0f%%'\u001b[0m\u001b[0;34m)\u001b[0m\u001b[0;34m)\u001b[0m\u001b[0;34m\u001b[0m\u001b[0;34m\u001b[0m\u001b[0m\n\u001b[0m\u001b[1;32m     15\u001b[0m \u001b[0;31m# plt.show(g)\u001b[0m\u001b[0;34m\u001b[0m\u001b[0;34m\u001b[0m\u001b[0;34m\u001b[0m\u001b[0m\n\u001b[1;32m     16\u001b[0m \u001b[0mplt\u001b[0m\u001b[0;34m.\u001b[0m\u001b[0mrcParams\u001b[0m\u001b[0;34m[\u001b[0m\u001b[0;34m'figure.facecolor'\u001b[0m\u001b[0;34m]\u001b[0m \u001b[0;34m=\u001b[0m \u001b[0;34m'#f0f7ff'\u001b[0m\u001b[0;34m\u001b[0m\u001b[0;34m\u001b[0m\u001b[0m\n",
      "\u001b[0;31mNameError\u001b[0m: name 'mtick' is not defined"
     ]
    },
    {
     "data": {
      "image/png": "[encoded data removed]",
      "text/plain": [
       "<Figure size 792x360 with 1 Axes>"
      ]
     },
     "metadata": {},
     "output_type": "display_data"
    }
   ],
   "source": [
    "sns.set_style('darkgrid')\n",
    "g = df[['mark','initial_approval_amount','yearmonth']]\n",
    "g = g.groupby([\"yearmonth\", \"mark\"]).size().groupby(level = 0).apply(lambda x: 100 * x / float(x.sum())).reset_index(drop=False).sort_values(['mark','yearmonth'], ascending = (False, True)).rename(columns={0:'proportion'}).head(11)\n",
    "\n",
    "g.yearmonth = g.yearmonth.astype(str)\n",
    "# g = g.sort_values(by=['yearmonth'])\n",
    "fig, ax = plt.subplots(figsize=(11,5))\n",
    "s = sns.lineplot(x='yearmonth', y='proportion', data=g, marker='d',linewidth = 2.5, palette = 'b')\n",
    "s.set_xticklabels(g.yearmonth,rotation=45, ha='right')\n",
    "s.axes.set_title('Monthly Removal Rate (April 2020 - June 2021)',fontdict={'fontsize':24, 'color':'maroon', 'weight':'bold'})\n",
    "s.set_xlabel(\"Date Approved\",fontsize=18)\n",
    "s.set_ylabel(None)\n",
    "s.tick_params(labelsize=18)\n",
    "plt.gca().yaxis.set_major_formatter(mtick.FormatStrFormatter('%.0f%%'))\n",
    "# plt.show(g)\n",
    "plt.rcParams['figure.facecolor'] = '#f0f7ff'\n",
    "for x,y in g[['yearmonth','proportion']].values:\n",
    "    ax.text(x,y+0.5,f'{y:.2f}% ',color='black', fontsize='15', ha='center')"
   ]
  },
  {
   "cell_type": "code",
   "execution_count": 30,
   "id": "b05142d7-f010-47a5-adb0-ad7e294df867",
   "metadata": {},
   "outputs": [
    {
     "name": "stderr",
     "output_type": "stream",
     "text": [
      "/var/folders/59/p50xxbtd4y5f88p88xxyc8bw0000gn/T/ipykernel_1037/2312733356.py:8: UserWarning: FixedFormatter should only be used together with FixedLocator\n",
      "  s.set_xticklabels(g.yearmonth,rotation=45, ha='center')\n"
     ]
    },
    {
     "data": {
      "image/png": "[encoded data removed]",
      "text/plain": [
       "<Figure size 504x360 with 1 Axes>"
      ]
     },
     "metadata": {
      "needs_background": "light"
     },
     "output_type": "display_data"
    }
   ],
   "source": [
    "#Application Counts by Loan Amount Figures - Line chart\n",
    "g = df[['mark','yearmonth','if_decimal_equal_zero']]\n",
    "g = g.groupby(['yearmonth','mark'])['if_decimal_equal_zero'].count().reset_index()\n",
    "\n",
    "g.yearmonth = g.yearmonth.astype(str)\n",
    "g = g.sort_values(by=['mark','yearmonth'])\n",
    "fig, ax = plt.subplots(figsize=(7,5))\n",
    "s = sns.lineplot(x='yearmonth', y='if_decimal_equal_zero', data=g, hue='mark',marker='d')\n",
    "s.set_xticklabels(g.yearmonth,rotation=45, ha='center')\n",
    "s.set(xlabel='date', ylabel='number of applications')\n",
    "plt.show()"
   ]
  },
  {
   "cell_type": "markdown",
   "id": "d726e5cf-1dd7-494f-97dc-06ddec8549bf",
   "metadata": {},
   "source": [
    "#### Yearmonth\n",
    "As we can see from the graph, removal rate increased dramatically after April 2021. We guess because March 2021 was the deadline and after April 2021 was extension period. Loan applications were not in good quality because applicant prepared their application in rush.\n",
    "\n",
    "Yearmonth is a useful variable to distinguish classes. We would select this variable."
   ]
  },
  {
   "cell_type": "code",
   "execution_count": 142,
   "id": "3a8bec6c-03e6-4b13-864b-1684f7273e1f",
   "metadata": {},
   "outputs": [],
   "source": [
    "# Exploration of final digit of amount\n",
    "end_1 = df[df['initial_approval_amount'] % 10 == 1]\n",
    "end_2 = df[df['initial_approval_amount'] % 10 == 2]\n",
    "end_3 = df[df['initial_approval_amount'] % 10 == 3]\n",
    "end_4 = df[df['initial_approval_amount'] % 10 == 4]\n",
    "end_5 = df[df['initial_approval_amount'] % 10 == 5]\n",
    "end_6 = df[df['initial_approval_amount'] % 10 == 6]\n",
    "end_7 = df[df['initial_approval_amount'] % 10 == 7]\n",
    "end_8 = df[df['initial_approval_amount'] % 10 == 8]\n",
    "end_9 = df[df['initial_approval_amount'] % 10 == 9]\n",
    "end_0 = df[df['initial_approval_amount'] % 10 == 0]"
   ]
  },
  {
   "cell_type": "code",
   "execution_count": 145,
   "id": "56b0cf24-9b4b-43a7-abcb-6b351e379ab4",
   "metadata": {
    "tags": []
   },
   "outputs": [
    {
     "name": "stdout",
     "output_type": "stream",
     "text": [
      "mark\n",
      "nr    95.73377\n",
      "r      4.26623\n",
      "dtype: float64\n",
      "mark\n",
      "nr    92.203842\n",
      "r      7.796158\n",
      "dtype: float64\n",
      "mark\n",
      "nr    93.079076\n",
      "r      6.920924\n",
      "dtype: float64\n",
      "mark\n",
      "nr    95.62054\n",
      "r      4.37946\n",
      "dtype: float64\n",
      "mark\n",
      "nr    95.307629\n",
      "r      4.692371\n",
      "dtype: float64\n",
      "mark\n",
      "nr    95.53841\n",
      "r      4.46159\n",
      "dtype: float64\n",
      "mark\n",
      "nr    96.060583\n",
      "r      3.939417\n",
      "dtype: float64\n",
      "mark\n",
      "nr    95.466623\n",
      "r      4.533377\n",
      "dtype: float64\n",
      "mark\n",
      "nr    95.923278\n",
      "r      4.076722\n",
      "dtype: float64\n",
      "mark\n",
      "nr    97.565016\n",
      "r      2.434984\n",
      "dtype: float64\n"
     ]
    }
   ],
   "source": [
    "print(end_1.groupby([\"mark\"]).size().transform(lambda x: 100 * x / float(x.sum())))\n",
    "print(end_2.groupby([\"mark\"]).size().transform(lambda x: 100 * x / float(x.sum())))\n",
    "print(end_3.groupby([\"mark\"]).size().transform(lambda x: 100 * x / float(x.sum())))\n",
    "print(end_4.groupby([\"mark\"]).size().transform(lambda x: 100 * x / float(x.sum())))\n",
    "print(end_5.groupby([\"mark\"]).size().transform(lambda x: 100 * x / float(x.sum())))\n",
    "print(end_6.groupby([\"mark\"]).size().transform(lambda x: 100 * x / float(x.sum())))\n",
    "print(end_7.groupby([\"mark\"]).size().transform(lambda x: 100 * x / float(x.sum())))\n",
    "print(end_8.groupby([\"mark\"]).size().transform(lambda x: 100 * x / float(x.sum())))\n",
    "print(end_9.groupby([\"mark\"]).size().transform(lambda x: 100 * x / float(x.sum())))\n",
    "print(end_0.groupby([\"mark\"]).size().transform(lambda x: 100 * x / float(x.sum())))\n"
   ]
  },
  {
   "cell_type": "code",
   "execution_count": 144,
   "id": "3de7c354-0c27-4d65-b746-d739a35760cc",
   "metadata": {
    "tags": []
   },
   "outputs": [
    {
     "data": {
      "text/plain": [
       "[Text(0.5, 1.0, 'Amount ends with 0')]"
      ]
     },
     "execution_count": 144,
     "metadata": {},
     "output_type": "execute_result"
    },
    {
     "data": {
      "image/png": "[encoded data removed]",
      "text/plain": [
       "<Figure size 1152x864 with 10 Axes>"
      ]
     },
     "metadata": {
      "needs_background": "light"
     },
     "output_type": "display_data"
    }
   ],
   "source": [
    "fig, axes = plt.subplots(2, 5, figsize=(16,12))\n",
    "sns.histplot(data = end_1, x=df['mark'], bins = 100, ax=axes[0, 0]).set(title='Amount ends with 1')\n",
    "sns.histplot(data = end_2, x=df['mark'], bins = 100, ax=axes[0, 1]).set(title='Amount ends with 2')\n",
    "sns.histplot(data = end_3, x=df['mark'], bins = 100, ax=axes[0, 2]).set(title='Amount ends with 3')\n",
    "sns.histplot(data = end_4, x=df['mark'], bins = 100, ax=axes[0, 3]).set(title='Amount ends with 4')\n",
    "sns.histplot(data = end_5, x=df['mark'], bins = 100, ax=axes[0, 4]).set(title='Amount ends with 5')\n",
    "sns.histplot(data = end_6, x=df['mark'], bins = 100, ax=axes[1, 0]).set(title='Amount ends with 6')\n",
    "sns.histplot(data = end_7, x=df['mark'], bins = 100, ax=axes[1, 1]).set(title='Amount ends with 7')\n",
    "sns.histplot(data = end_8, x=df['mark'], bins = 100, ax=axes[1, 2]).set(title='Amount ends with 8')\n",
    "sns.histplot(data = end_9, x=df['mark'], bins = 100, ax=axes[1, 3]).set(title='Amount ends with 9')\n",
    "sns.histplot(data = end_0, x=df['mark'], bins = 100, ax=axes[1, 4]).set(title='Amount ends with 0')"
   ]
  },
  {
   "cell_type": "markdown",
   "id": "cf299478-f8c4-4950-9442-2fbd3e59d637",
   "metadata": {},
   "source": [
    "#### Final digit of amount\n",
    "We explore final digit of amount because we assume if a loan application is a fraud, it's amount would have high probability to end with certain digit. However after the visualiztion and stats, we found no significat differences between removed and non-removed loans in final digit of amount. Therefore, we will not select this variable."
   ]
  },
  {
   "cell_type": "code",
   "execution_count": 146,
   "id": "d7ca8629-60da-4348-a14e-e83fa3252957",
   "metadata": {
    "tags": []
   },
   "outputs": [
    {
     "data": {
      "text/plain": [
       "55997"
      ]
     },
     "execution_count": 146,
     "metadata": {},
     "output_type": "execute_result"
    }
   ],
   "source": [
    "# Explore the amount with and without decimals\n",
    "df['decimal'][df['decimal'] != 0].count()"
   ]
  },
  {
   "cell_type": "code",
   "execution_count": 147,
   "id": "95c37995-f8d6-4a94-a0b9-708d216cba5a",
   "metadata": {},
   "outputs": [
    {
     "data": {
      "text/plain": [
       "decimal  mark\n",
       "1        nr       99.825480\n",
       "         r         0.174520\n",
       "2        nr       99.714081\n",
       "         r         0.285919\n",
       "3        nr       99.668508\n",
       "                    ...    \n",
       "97       nr       99.705882\n",
       "         r         0.294118\n",
       "98       nr      100.000000\n",
       "99       nr      100.000000\n",
       "425      nr      100.000000\n",
       "Length: 141, dtype: float64"
      ]
     },
     "execution_count": 147,
     "metadata": {},
     "output_type": "execute_result"
    },
    {
     "data": {
      "image/png": "[encoded data removed]",
      "text/plain": [
       "<Figure size 432x288 with 1 Axes>"
      ]
     },
     "metadata": {
      "needs_background": "light"
     },
     "output_type": "display_data"
    }
   ],
   "source": [
    "sns.histplot(data = df, x=df['decimal'][df['decimal'] != 0], hue = df['mark'], bins = 100, multiple = 'dodge')\n",
    "df[df['decimal'] != 0].groupby([\"decimal\", \"mark\"]).size().groupby(level = 0).apply(lambda x: 100 * x / float(x.sum()))"
   ]
  },
  {
   "cell_type": "code",
   "execution_count": 148,
   "id": "5089997f-bd3d-401b-92b3-0fd0ec7224ec",
   "metadata": {},
   "outputs": [
    {
     "data": {
      "text/plain": [
       "if_decimal_equal_zero  mark\n",
       "0                      nr      95.189928\n",
       "                       r        4.810072\n",
       "1                      nr      99.496402\n",
       "                       r        0.503598\n",
       "dtype: float64"
      ]
     },
     "execution_count": 148,
     "metadata": {},
     "output_type": "execute_result"
    },
    {
     "data": {
      "image/png": "[encoded data removed]",
      "text/plain": [
       "<Figure size 432x288 with 1 Axes>"
      ]
     },
     "metadata": {
      "needs_background": "light"
     },
     "output_type": "display_data"
    }
   ],
   "source": [
    "sns.histplot(data = df, x=df['if_decimal_equal_zero'].astype(str), hue = df['mark'], bins = 100, multiple = 'dodge')\n",
    "df.groupby([\"if_decimal_equal_zero\", \"mark\"]).size().groupby(level = 0).apply(lambda x: 100 * x / float(x.sum()))"
   ]
  },
  {
   "cell_type": "markdown",
   "id": "33870878-67c5-41ea-901b-6dff20c7e092",
   "metadata": {
    "tags": []
   },
   "source": [
    "#### If decimal equal zero\n",
    "We found that there are 55,997 loans' amount with decimals. This accounts near 10% of all applications. We gave the loans with or without decimals marks. If loan with decimal, it's marked as 0, otherwise 1, if loan without decimal.\n",
    "\n",
    "As we can see from the graph, loans with decimal have higher percentage belong to removed loans. So this variable can provide us info to distinguish removed and non-removed loans. We would select this variable."
   ]
  },
  {
   "cell_type": "code",
   "execution_count": 37,
   "id": "a68ad92d-c12b-4d4c-82b6-9f49d0ea408a",
   "metadata": {},
   "outputs": [
    {
     "ename": "NameError",
     "evalue": "name 'mtick' is not defined",
     "output_type": "error",
     "traceback": [
      "\u001b[0;31m---------------------------------------------------------------------------\u001b[0m",
      "\u001b[0;31mNameError\u001b[0m                                 Traceback (most recent call last)",
      "\u001b[0;32m/var/folders/59/p50xxbtd4y5f88p88xxyc8bw0000gn/T/ipykernel_1037/1103115096.py\u001b[0m in \u001b[0;36m<module>\u001b[0;34m\u001b[0m\n\u001b[1;32m      4\u001b[0m \u001b[0mg\u001b[0m\u001b[0;34m.\u001b[0m\u001b[0mset_title\u001b[0m\u001b[0;34m(\u001b[0m\u001b[0;34m'Proportion of Application Status by Business Type'\u001b[0m\u001b[0;34m,\u001b[0m\u001b[0mfontdict\u001b[0m\u001b[0;34m=\u001b[0m\u001b[0;34m{\u001b[0m\u001b[0;34m'fontsize'\u001b[0m\u001b[0;34m:\u001b[0m\u001b[0;36m15\u001b[0m\u001b[0;34m,\u001b[0m \u001b[0;34m'color'\u001b[0m\u001b[0;34m:\u001b[0m\u001b[0;34m'maroon'\u001b[0m\u001b[0;34m}\u001b[0m\u001b[0;34m)\u001b[0m\u001b[0;34m\u001b[0m\u001b[0;34m\u001b[0m\u001b[0m\n\u001b[1;32m      5\u001b[0m \u001b[0mg\u001b[0m\u001b[0;34m.\u001b[0m\u001b[0mset\u001b[0m\u001b[0;34m(\u001b[0m\u001b[0mylabel\u001b[0m\u001b[0;34m=\u001b[0m\u001b[0;32mNone\u001b[0m\u001b[0;34m)\u001b[0m\u001b[0;34m\u001b[0m\u001b[0;34m\u001b[0m\u001b[0m\n\u001b[0;32m----> 6\u001b[0;31m \u001b[0mplt\u001b[0m\u001b[0;34m.\u001b[0m\u001b[0mgca\u001b[0m\u001b[0;34m(\u001b[0m\u001b[0;34m)\u001b[0m\u001b[0;34m.\u001b[0m\u001b[0mxaxis\u001b[0m\u001b[0;34m.\u001b[0m\u001b[0mset_major_formatter\u001b[0m\u001b[0;34m(\u001b[0m\u001b[0mmtick\u001b[0m\u001b[0;34m.\u001b[0m\u001b[0mFormatStrFormatter\u001b[0m\u001b[0;34m(\u001b[0m\u001b[0;34m'%.0f%%'\u001b[0m\u001b[0;34m)\u001b[0m\u001b[0;34m)\u001b[0m\u001b[0;34m\u001b[0m\u001b[0;34m\u001b[0m\u001b[0m\n\u001b[0m\u001b[1;32m      7\u001b[0m \u001b[0;31m# Put the legend out of the figure\u001b[0m\u001b[0;34m\u001b[0m\u001b[0;34m\u001b[0m\u001b[0;34m\u001b[0m\u001b[0m\n\u001b[1;32m      8\u001b[0m \u001b[0mg\u001b[0m\u001b[0;34m.\u001b[0m\u001b[0mlegend\u001b[0m\u001b[0;34m(\u001b[0m\u001b[0mlabels\u001b[0m\u001b[0;34m=\u001b[0m\u001b[0;34m[\u001b[0m\u001b[0;34m'Approved'\u001b[0m\u001b[0;34m,\u001b[0m \u001b[0;34m'Removed'\u001b[0m\u001b[0;34m]\u001b[0m\u001b[0;34m,\u001b[0m \u001b[0mloc\u001b[0m\u001b[0;34m=\u001b[0m\u001b[0;34m'center left'\u001b[0m\u001b[0;34m,\u001b[0m \u001b[0mbbox_to_anchor\u001b[0m\u001b[0;34m=\u001b[0m\u001b[0;34m(\u001b[0m\u001b[0;36m1\u001b[0m\u001b[0;34m,\u001b[0m \u001b[0;36m0.5\u001b[0m\u001b[0;34m)\u001b[0m\u001b[0;34m,\u001b[0m \u001b[0mborderaxespad\u001b[0m\u001b[0;34m=\u001b[0m\u001b[0;36m1\u001b[0m\u001b[0;34m)\u001b[0m\u001b[0;34m\u001b[0m\u001b[0;34m\u001b[0m\u001b[0m\n",
      "\u001b[0;31mNameError\u001b[0m: name 'mtick' is not defined"
     ]
    },
    {
     "data": {
      "image/png": "[encoded data removed]",
      "text/plain": [
       "<Figure size 360x360 with 1 Axes>"
      ]
     },
     "metadata": {},
     "output_type": "display_data"
    }
   ],
   "source": [
    "# Plot Business Type\n",
    "df_after = df.groupby('business_type_classification').filter(lambda x: len(x) > 1)\n",
    "g = df_after.groupby([\"business_type_classification\",\"mark\"]).size().groupby(level = 0).apply(lambda x: 100 * x / float(x.sum())).unstack(1).plot.barh(stacked=True, figsize=(5, 5))\n",
    "g.set_title('Proportion of Application Status by Business Type',fontdict={'fontsize':15, 'color':'maroon'})\n",
    "g.set(ylabel=None)\n",
    "plt.gca().xaxis.set_major_formatter(mtick.FormatStrFormatter('%.0f%%'))\n",
    "# Put the legend out of the figure\n",
    "g.legend(labels=['Approved', 'Removed'], loc='center left', bbox_to_anchor=(1, 0.5), borderaxespad=1)\n",
    "g.margins(x=0)"
   ]
  },
  {
   "cell_type": "markdown",
   "id": "f6338921-b7c3-4c65-b331-7d5845490d23",
   "metadata": {},
   "source": [
    "#### Business Type\n",
    "We can see that small company have more perventage of removed loans than other types. So variable of business type can help us to distinguish between classes. So we select this variable and would put it into the predictive model."
   ]
  },
  {
   "cell_type": "markdown",
   "id": "398077fa-2843-46b1-b9ca-fc5edbfd4164",
   "metadata": {},
   "source": [
    "## Predictive Models Building"
   ]
  },
  {
   "cell_type": "markdown",
   "id": "a655b4f7-fab1-41a0-a07c-0e070b0d2bee",
   "metadata": {
    "tags": []
   },
   "source": [
    "#### Prepare training and testing data"
   ]
  },
  {
   "cell_type": "code",
   "execution_count": 150,
   "id": "c2e19c37-9c57-4f90-98cd-152d1052adb1",
   "metadata": {
    "tags": []
   },
   "outputs": [],
   "source": [
    "x = df[['amount', 'borrower_lat', 'borrower_lng', 'naics_code', 'business_type_classification', 'jobs_retained', 'loan_status', 'servicing_lender_lat', 'servicing_lender_lng', 'hubzone_indicator',\n",
    "       'business_age_description', 'lmi_indicator', 'forgiveness_amount', 'amount_diff', 'if_decimal_equal_zero', 'yearmonth']]\n",
    "y = df['mark']\n"
   ]
  },
  {
   "cell_type": "code",
   "execution_count": 151,
   "id": "937ebdb1-1a15-428a-953b-f14191afd23b",
   "metadata": {
    "tags": []
   },
   "outputs": [
    {
     "name": "stderr",
     "output_type": "stream",
     "text": [
      "/var/folders/59/p50xxbtd4y5f88p88xxyc8bw0000gn/T/ipykernel_814/3493454098.py:2: SettingWithCopyWarning: \n",
      "A value is trying to be set on a copy of a slice from a DataFrame\n",
      "\n",
      "See the caveats in the documentation: https://pandas.pydata.org/pandas-docs/stable/user_guide/indexing.html#returning-a-view-versus-a-copy\n",
      "  y[y == 'nr'] = 0\n",
      "/var/folders/59/p50xxbtd4y5f88p88xxyc8bw0000gn/T/ipykernel_814/3493454098.py:4: SettingWithCopyWarning: \n",
      "A value is trying to be set on a copy of a slice from a DataFrame\n",
      "\n",
      "See the caveats in the documentation: https://pandas.pydata.org/pandas-docs/stable/user_guide/indexing.html#returning-a-view-versus-a-copy\n",
      "  y[y == 'r'] = 1\n"
     ]
    }
   ],
   "source": [
    "# convert labels into binary values\n",
    "y[y == 'nr'] = 0\n",
    "\n",
    "y[y == 'r'] = 1\n",
    "y = y.astype(int)\n"
   ]
  },
  {
   "cell_type": "code",
   "execution_count": 152,
   "id": "040a8ebc-013b-4b15-a93b-5c06a2b9a529",
   "metadata": {
    "tags": []
   },
   "outputs": [
    {
     "name": "stderr",
     "output_type": "stream",
     "text": [
      "/var/folders/59/p50xxbtd4y5f88p88xxyc8bw0000gn/T/ipykernel_814/486523057.py:2: SettingWithCopyWarning: \n",
      "A value is trying to be set on a copy of a slice from a DataFrame.\n",
      "Try using .loc[row_indexer,col_indexer] = value instead\n",
      "\n",
      "See the caveats in the documentation: https://pandas.pydata.org/pandas-docs/stable/user_guide/indexing.html#returning-a-view-versus-a-copy\n",
      "  x['yearmonth'] = x['yearmonth'].astype('category')\n"
     ]
    }
   ],
   "source": [
    "# Convert all categorical variables to dummies\n",
    "x['yearmonth'] = x['yearmonth'].astype('category')\n",
    "x = pd.get_dummies(x)\n"
   ]
  },
  {
   "cell_type": "code",
   "execution_count": 153,
   "id": "6029d940-980d-4ee6-a4b3-39173efd5c33",
   "metadata": {
    "tags": []
   },
   "outputs": [],
   "source": [
    "# Split the data\n",
    "from sklearn.model_selection import train_test_split\n",
    "\n",
    "x_train, x_test, y_train, y_test = train_test_split(x, y, test_size = 0.3, random_state = 20742)\n"
   ]
  },
  {
   "cell_type": "markdown",
   "id": "57963bd2-b6b3-4762-bbcd-dd4ded8abe03",
   "metadata": {},
   "source": [
    "### XGBoost"
   ]
  },
  {
   "cell_type": "code",
   "execution_count": 154,
   "id": "b727f1c6-eb79-4f1e-91d4-c8c41c39f8d6",
   "metadata": {},
   "outputs": [
    {
     "name": "stderr",
     "output_type": "stream",
     "text": [
      "/Users/yginger/opt/anaconda3/lib/python3.8/site-packages/xgboost/compat.py:36: FutureWarning: pandas.Int64Index is deprecated and will be removed from pandas in a future version. Use pandas.Index with the appropriate dtype instead.\n",
      "  from pandas import MultiIndex, Int64Index\n"
     ]
    }
   ],
   "source": [
    "# import machine learning libraries\n",
    "import xgboost as xgb\n",
    "from sklearn.metrics import accuracy_score, roc_auc_score, confusion_matrix, roc_curve, recall_score\n",
    "\n",
    "# import packages for hyperparameters tuning\n",
    "from hyperopt import STATUS_OK, Trials, fmin, hp, tpe"
   ]
  },
  {
   "cell_type": "code",
   "execution_count": 155,
   "id": "98fc606d-4328-48f5-bddc-a8acbcad4ead",
   "metadata": {},
   "outputs": [
    {
     "name": "stderr",
     "output_type": "stream",
     "text": [
      "/Users/yginger/opt/anaconda3/lib/python3.8/site-packages/xgboost/data.py:250: FutureWarning: pandas.Int64Index is deprecated and will be removed from pandas in a future version. Use pandas.Index with the appropriate dtype instead.\n",
      "  elif isinstance(data.columns, (pd.Int64Index, pd.RangeIndex)):\n"
     ]
    },
    {
     "name": "stdout",
     "output_type": "stream",
     "text": [
      "[11:22:22] WARNING: ../src/learner.cc:1115: Starting in XGBoost 1.3.0, the default evaluation metric used with the objective 'binary:logistic' was changed from 'error' to 'logloss'. Explicitly set eval_metric if you'd like to restore the old behavior.\n"
     ]
    },
    {
     "data": {
      "text/plain": [
       "XGBClassifier(base_score=0.5, booster='gbtree', colsample_bylevel=1,\n",
       "              colsample_bynode=1, colsample_bytree=1, enable_categorical=False,\n",
       "              gamma=0, gpu_id=-1, importance_type=None,\n",
       "              interaction_constraints='', learning_rate=0.300000012,\n",
       "              max_delta_step=0, max_depth=6, min_child_weight=1, missing=nan,\n",
       "              monotone_constraints='()', n_estimators=100, n_jobs=8,\n",
       "              num_parallel_tree=1, predictor='auto', random_state=0,\n",
       "              reg_alpha=0, reg_lambda=1, scale_pos_weight=1, subsample=1,\n",
       "              tree_method='exact', use_label_encoder=False,\n",
       "              validate_parameters=1, verbosity=None)"
      ]
     },
     "execution_count": 155,
     "metadata": {},
     "output_type": "execute_result"
    }
   ],
   "source": [
    "# put the best hyperparameters\n",
    "\n",
    "clf=xgb.XGBClassifier(objective=\"binary:logistic\", \n",
    "                          #n_estimators = 201, \n",
    "                          #max_depth = 18, \n",
    "                          #gamma = 6.318764980604099,\n",
    "                          #reg_alpha = 165.0,\n",
    "                          #min_child_weight = 4.0,\n",
    "                          #colsample_bytree = 0.6776250182922174, \n",
    "                          #reg_lambda = 0.9436398327545011,\n",
    "                          use_label_encoder =False\n",
    "                         )\n",
    "\n",
    "clf.fit(x_train, y_train)\n",
    "\n"
   ]
  },
  {
   "cell_type": "code",
   "execution_count": 156,
   "id": "3152bedc-39ae-4b8a-8780-d838d21f5caa",
   "metadata": {},
   "outputs": [
    {
     "name": "stdout",
     "output_type": "stream",
     "text": [
      "Accuracy: 0.9951307348479586\n",
      "AUC: 0.9511939125847755\n"
     ]
    }
   ],
   "source": [
    "y_pred = clf.predict(x_test)\n",
    "accuracy = accuracy_score(y_test, y_pred)\n",
    "auc =roc_auc_score(y_test, y_pred)\n",
    "print (\"Accuracy:\", accuracy)\n",
    "print (\"AUC:\", auc)"
   ]
  },
  {
   "cell_type": "markdown",
   "id": "a24689b7-e86b-463b-b93f-8c068b85ea5f",
   "metadata": {},
   "source": [
    "AUC means the probability that the classifier will be able to distinguish between classes.\n",
    "So 0.95 AUC of XGBoost means our XGBoost model has ability to distonguish 95% of loans to correct classes."
   ]
  },
  {
   "cell_type": "code",
   "execution_count": 157,
   "id": "a23ed550-e53e-4de5-8871-91f684b043a2",
   "metadata": {},
   "outputs": [],
   "source": [
    "# Make confusion matrix of XGBoost\n",
    "from sklearn.metrics import confusion_matrix\n",
    "cfm_xgb = confusion_matrix(y_test, y_pred)\n"
   ]
  },
  {
   "cell_type": "code",
   "execution_count": 158,
   "id": "9ac38f3b-e2e1-476f-81e8-f3156f59047f",
   "metadata": {},
   "outputs": [
    {
     "data": {
      "text/plain": [
       "Text(0.5, 257.44, 'Predicted label')"
      ]
     },
     "execution_count": 158,
     "metadata": {},
     "output_type": "execute_result"
    },
    {
     "data": {
      "image/png": "[encoded data removed]",
      "text/plain": [
       "<Figure size 432x288 with 2 Axes>"
      ]
     },
     "metadata": {
      "needs_background": "light"
     },
     "output_type": "display_data"
    }
   ],
   "source": [
    "# Plot confusion matrix of XGBoost\n",
    "class_names=[0,1] # name  of classes\n",
    "fig, ax = plt.subplots()\n",
    "tick_marks = np.arange(len(class_names))\n",
    "plt.xticks(tick_marks, class_names)\n",
    "plt.yticks(tick_marks, class_names)\n",
    "# create heatmap\n",
    "sns.heatmap(pd.DataFrame(cfm_xgb), annot=True, cmap=\"YlGnBu\" ,fmt='g')\n",
    "ax.xaxis.set_label_position(\"top\")\n",
    "plt.tight_layout()\n",
    "plt.title('Confusion matrix of XGBoost', y=1.1)\n",
    "plt.ylabel('Actual label')\n",
    "plt.xlabel('Predicted label')"
   ]
  },
  {
   "cell_type": "code",
   "execution_count": 159,
   "id": "4ed97bc0-0d94-4d9d-92c2-f982152bc02c",
   "metadata": {},
   "outputs": [
    {
     "name": "stderr",
     "output_type": "stream",
     "text": [
      "No artists with labels found to put in legend.  Note that artists whose label start with an underscore are ignored when legend() is called with no argument.\n"
     ]
    },
    {
     "data": {
      "image/png": "[encoded data removed]",
      "text/plain": [
       "<Figure size 432x288 with 1 Axes>"
      ]
     },
     "metadata": {
      "needs_background": "light"
     },
     "output_type": "display_data"
    }
   ],
   "source": [
    "# Plot ROC of XGBoost\n",
    "xgb_pred_proba = clf.predict_proba(x_test)[::,1]\n",
    "fpr, tpr, _ = roc_curve(y_test,  xgb_pred_proba)\n",
    "plt.plot(fpr,tpr)\n",
    "plt.legend(loc=4)\n",
    "plt.show()"
   ]
  },
  {
   "cell_type": "code",
   "execution_count": 160,
   "id": "19b4f750-faae-4947-808b-b9a7b78cb5c2",
   "metadata": {},
   "outputs": [],
   "source": [
    "# Loading library for plotting xgboost\n",
    "from xgboost import plot_tree\n",
    "import graphviz\n",
    "\n"
   ]
  },
  {
   "cell_type": "code",
   "execution_count": 161,
   "id": "5e4d0f99-9976-4e42-b74b-46eb0d1da636",
   "metadata": {},
   "outputs": [
    {
     "data": {
      "image/png": "[encoded data removed]",
      "text/plain": [
       "<Figure size 1080x1080 with 1 Axes>"
      ]
     },
     "metadata": {
      "needs_background": "light"
     },
     "output_type": "display_data"
    }
   ],
   "source": [
    "# Plot the XGBoost tree\n",
    "xgb_tree__plot = plot_tree(clf, decision_tree = 'classifier', num_trees=21)\n",
    "fig = xgb_tree__plot.figure\n",
    "fig.set_size_inches(15, 15)"
   ]
  },
  {
   "cell_type": "code",
   "execution_count": 162,
   "id": "ea05ff95-a955-4c72-a747-3d1090e19f75",
   "metadata": {},
   "outputs": [
    {
     "data": {
      "image/png": "[encoded data removed]",
      "text/plain": [
       "<Figure size 1152x864 with 1 Axes>"
      ]
     },
     "metadata": {
      "needs_background": "light"
     },
     "output_type": "display_data"
    }
   ],
   "source": [
    "# Plot the importance ranking of XGBoost\n",
    "vip_plot = xgb.plot_importance(clf)\n",
    "fig = vip_plot.figure\n",
    "fig.set_size_inches(16, 12)"
   ]
  },
  {
   "cell_type": "markdown",
   "id": "791fc701-1b6b-4d7a-b6ae-923c33cb9b52",
   "metadata": {},
   "source": [
    "#### Variables' importance ranking by XGBoost\n",
    "We can see from the graph that XGBoost recognize top five most important variables are amount, borrower's latitude and longtitude, and lender's latitude and longtitude. \n",
    "\n",
    "We interpret them as the amount of a loan application is the most important factor to decide if a loan would be removed or not. Next, borrower's and lender's infomation are the second important factors.\n"
   ]
  },
  {
   "cell_type": "markdown",
   "id": "5aad1cb1-76a0-4412-b61b-e50fc6b2f045",
   "metadata": {},
   "source": [
    "### Logistic Regression"
   ]
  },
  {
   "cell_type": "code",
   "execution_count": 163,
   "id": "3845a1fa-aef1-4013-9641-0284dcc37562",
   "metadata": {},
   "outputs": [],
   "source": [
    "#Logistic Regression\n",
    "from sklearn import linear_model\n"
   ]
  },
  {
   "cell_type": "code",
   "execution_count": 164,
   "id": "ef0ff3ec-3012-49e9-95d1-37fdf4053b09",
   "metadata": {},
   "outputs": [
    {
     "name": "stderr",
     "output_type": "stream",
     "text": [
      "/Users/yginger/opt/anaconda3/lib/python3.8/site-packages/sklearn/linear_model/_logistic.py:814: ConvergenceWarning: lbfgs failed to converge (status=1):\n",
      "STOP: TOTAL NO. of ITERATIONS REACHED LIMIT.\n",
      "\n",
      "Increase the number of iterations (max_iter) or scale the data as shown in:\n",
      "    https://scikit-learn.org/stable/modules/preprocessing.html\n",
      "Please also refer to the documentation for alternative solver options:\n",
      "    https://scikit-learn.org/stable/modules/linear_model.html#logistic-regression\n",
      "  n_iter_i = _check_optimize_result(\n"
     ]
    }
   ],
   "source": [
    "model=linear_model.LogisticRegression()\n",
    "model_fit = model.fit(x_train,y_train)\n"
   ]
  },
  {
   "cell_type": "code",
   "execution_count": 165,
   "id": "ed9a6cf2-7246-4bb4-9dd5-ef399e670dfa",
   "metadata": {},
   "outputs": [],
   "source": [
    "y_pred = model.predict(x_test)\n"
   ]
  },
  {
   "cell_type": "code",
   "execution_count": 166,
   "id": "c3dead82-f5c9-43a8-a043-21986cdfa19d",
   "metadata": {
    "tags": []
   },
   "outputs": [],
   "source": [
    "# Make confusion matrix of LR\n",
    "from sklearn.metrics import accuracy_score, roc_auc_score, confusion_matrix, roc_curve\n",
    "cfm_lr = confusion_matrix(y_test, y_pred)\n"
   ]
  },
  {
   "cell_type": "code",
   "execution_count": 167,
   "id": "1eee9f72-9a24-4165-bdc5-1008705bc2e6",
   "metadata": {},
   "outputs": [
    {
     "name": "stdout",
     "output_type": "stream",
     "text": [
      "0.975387341068575\n",
      "0.7648442026877885\n"
     ]
    }
   ],
   "source": [
    "# Output performance of LR model\n",
    "accuracy = accuracy_score(y_test, y_pred)\n",
    "auc =roc_auc_score(y_test, y_pred)\n",
    "print(accuracy)\n",
    "print(auc)"
   ]
  },
  {
   "cell_type": "code",
   "execution_count": 168,
   "id": "ae39a93f-0c8d-42f2-aa00-8e1e01089a4c",
   "metadata": {},
   "outputs": [
    {
     "data": {
      "text/plain": [
       "Text(0.5, 257.44, 'Predicted label')"
      ]
     },
     "execution_count": 168,
     "metadata": {},
     "output_type": "execute_result"
    },
    {
     "data": {
      "image/png": "[encoded data removed]",
      "text/plain": [
       "<Figure size 432x288 with 2 Axes>"
      ]
     },
     "metadata": {
      "needs_background": "light"
     },
     "output_type": "display_data"
    }
   ],
   "source": [
    "# plotting confusion matrix of LR\n",
    "class_names=[0,1] # name  of classes\n",
    "fig, ax = plt.subplots()\n",
    "tick_marks = np.arange(len(class_names))\n",
    "plt.xticks(tick_marks, class_names)\n",
    "plt.yticks(tick_marks, class_names)\n",
    "# create heatmap\n",
    "sns.heatmap(pd.DataFrame(cfm_lr), annot=True, cmap=\"YlGnBu\" ,fmt='g')\n",
    "ax.xaxis.set_label_position(\"top\")\n",
    "plt.tight_layout()\n",
    "plt.title('Confusion matrix of Logistic Regression', y=1.1)\n",
    "plt.ylabel('Actual label')\n",
    "plt.xlabel('Predicted label')"
   ]
  },
  {
   "cell_type": "code",
   "execution_count": 169,
   "id": "6411628d-91c1-4333-9913-985958f2783d",
   "metadata": {},
   "outputs": [
    {
     "name": "stderr",
     "output_type": "stream",
     "text": [
      "No artists with labels found to put in legend.  Note that artists whose label start with an underscore are ignored when legend() is called with no argument.\n"
     ]
    },
    {
     "data": {
      "image/png": "[encoded data removed]",
      "text/plain": [
       "<Figure size 432x288 with 1 Axes>"
      ]
     },
     "metadata": {
      "needs_background": "light"
     },
     "output_type": "display_data"
    }
   ],
   "source": [
    "# Plot ROC of LR\n",
    "lr_pred_proba = model.predict_proba(x_test)[::,1]\n",
    "fpr, tpr, _ = roc_curve(y_test,  lr_pred_proba)\n",
    "plt.plot(fpr,tpr)\n",
    "plt.legend(loc=4)\n",
    "plt.show()\n"
   ]
  },
  {
   "cell_type": "markdown",
   "id": "627215af-3c3e-42c9-b7d2-71e27798728f",
   "metadata": {},
   "source": [
    "XGBoost got higher score both on accuracy and AUC than logistic regreesion. This means XGBoost is a better model in this prediction."
   ]
  },
  {
   "cell_type": "markdown",
   "id": "2857924f-777a-4790-bbf2-b741b364b31e",
   "metadata": {},
   "source": [
    "## Conclusion: \n",
    "\n",
    "In this project, we first used data processing to clean data. We then used EDA to explore the variables relationships. We selected 16 variables that have differences between removed and non-removed loans. We fed these 16 variables to two predictive models, XGBoost and logistic regression. We selected these two models because they are suitable for predictive classificaation problem, which is this case.\n",
    "\n",
    "The best performance of our models comes from XGBoost with 0.95 AUC. This means based on our XGBoost model, we can identify 95% of obervations to correct classes."
   ]
  },
  {
   "cell_type": "markdown",
   "id": "06aa9fa9-0be8-48ad-8b46-5f070385e5c8",
   "metadata": {},
   "source": [
    "## Limitation:\n",
    "In this project, we only explore provided variables and used these variables to predict if a loan was removed by SBA. However, based on our finding, we don't know why SBA removed these loans. We infer that these loans were removed may cause by invalid information provided, and failing to pass reviewing. But we need more data and proves to connect the inferences to truths. "
   ]
  },
  {
   "cell_type": "markdown",
   "id": "a96c2227-54bc-44f9-9b8b-5a300bc6d1ff",
   "metadata": {
    "jp-MarkdownHeadingCollapsed": true,
    "tags": []
   },
   "source": [
    "```{toggle}\n",
    "- XGBoost tuning\n",
    "\n",
    "space={'max_depth': hp.quniform(\"max_depth\", 3, 18, 1),\n",
    "        'gamma': hp.uniform ('gamma', 1,9),\n",
    "        'reg_alpha' : hp.quniform('reg_alpha', 40,180,1),\n",
    "        'reg_lambda' : hp.uniform('reg_lambda', 0,1),\n",
    "        'colsample_bytree' : hp.uniform('colsample_bytree', 0.5,1),\n",
    "        'min_child_weight' : hp.quniform('min_child_weight', 0, 10, 1),\n",
    "        'n_estimators': 100,\n",
    "        'seed': 20742\n",
    "    }\n",
    "    \n",
    " def objective(space):\n",
    "    clf=xgb.XGBClassifier(objective=\"binary:logistic\", \n",
    "                          n_estimators =space['n_estimators'], \n",
    "                          max_depth = int(space['max_depth']), \n",
    "                          gamma = space['gamma'],\n",
    "                          reg_alpha = int(space['reg_alpha']),\n",
    "                          min_child_weight=int(space['min_child_weight']),\n",
    "                          colsample_bytree=int(space['colsample_bytree']), \n",
    "                          use_label_encoder =False\n",
    "                         )\n",
    "    \n",
    "evaluation = [(x_train, y_train), (x_test, y_test)]\n",
    "    \n",
    "clf.fit(x_train, y_train,\n",
    "            eval_set=evaluation, eval_metric=\"auc\",\n",
    "            early_stopping_rounds=10,verbose=False)\n",
    "    \n",
    "\n",
    "y_pred = clf.predict(x_test)\n",
    "accuracy = accuracy_score(y_test, y_pred)\n",
    "    sensitivity = recall_score(y_test, y_pred)\n",
    "    auc =roc_auc_score(y_test, y_pred)\n",
    "    print (\"Accuracy:\", accuracy)\n",
    "    print (\"Sensitivity:\", sensitivity)\n",
    "    print (\"AUC:\", auc)\n",
    "    return clf\n",
    "    return {'loss': -accuracy, 'status': STATUS_OK }\n",
    "    \n",
    "trials = Trials()\n",
    "\n",
    "best_hyperparams = fmin(fn = objective,\n",
    "                        space = space,\n",
    "                        algo = tpe.suggest,\n",
    "                        max_evals = 100,\n",
    "                        trials = trials)\n",
    "                        \n",
    "print(\"The best hyperparameters are : \",\"\\n\")\n",
    "print(best_hyperparams)\n",
    "```"
   ]
  }
 ],
 "metadata": {
  "kernelspec": {
   "display_name": "Python 3 (ipykernel)",
   "language": "python",
   "name": "python3"
  },
  "language_info": {
   "codemirror_mode": {
    "name": "ipython",
    "version": 3
   },
   "file_extension": ".py",
   "mimetype": "text/x-python",
   "name": "python",
   "nbconvert_exporter": "python",
   "pygments_lexer": "ipython3",
   "version": "3.8.11"
  }
 },
 "nbformat": 4,
 "nbformat_minor": 5
}
